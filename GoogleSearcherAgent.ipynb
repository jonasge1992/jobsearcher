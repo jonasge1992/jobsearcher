{
 "cells": [
  {
   "cell_type": "code",
   "execution_count": 1,
   "id": "29d3428a-bc8f-4b49-ad2d-398fa398ebf7",
   "metadata": {},
   "outputs": [
    {
     "data": {
      "text/plain": [
       "True"
      ]
     },
     "execution_count": 1,
     "metadata": {},
     "output_type": "execute_result"
    }
   ],
   "source": [
    "from dotenv import load_dotenv\n",
    "\n",
    "# Load the .env file\n",
    "load_dotenv()"
   ]
  },
  {
   "cell_type": "code",
   "execution_count": 317,
   "id": "e2195ec7-6b62-48a5-8a7d-37dcc3372f70",
   "metadata": {},
   "outputs": [],
   "source": [
    "import os\n",
    "from autogen import AssistantAgent, UserProxyAgent, ConversableAgent\n",
    "import tempfile\n",
    "from autogen import ConversableAgent\n",
    "from autogen.coding import LocalCommandLineCodeExecutor\n",
    "\n",
    "llm_config = {\"model\": \"gpt-3.5-turbo\", \"api_key\": os.environ[\"OPENAI_API_KEY\"]}\n",
    "assistant = AssistantAgent(\"assistant\", llm_config=llm_config)\n",
    "conv_agent = ConversableAgent(\"conv_agent\", llm_config=llm_config)\n",
    "\n",
    "\n",
    "\n",
    "# Create a temporary directory to store the code files.\n",
    "temp_dir = tempfile.TemporaryDirectory()\n",
    "\n",
    "# Create a local command line code executor.\n",
    "executor = LocalCommandLineCodeExecutor(\n",
    "    timeout=10,  # Timeout for each code execution in seconds.\n",
    "    work_dir=temp_dir.name,  # Use the temporary directory to store the code files.\n",
    ")\n",
    "\n",
    "# Create an agent with code executor configuration.\n",
    "user_proxy = UserProxyAgent(\n",
    "    \"code_executor_agent\",\n",
    "    code_execution_config={\"executor\": executor}  # Use the local command line code executor.\n",
    ")"
   ]
  },
  {
   "cell_type": "markdown",
   "id": "da41fcc7-5e52-4f75-b550-b537885ccb36",
   "metadata": {},
   "source": [
    "## Defining functions for agents"
   ]
  },
  {
   "cell_type": "markdown",
   "id": "411d0114-100b-4f65-b4d0-b1fa454d8a2a",
   "metadata": {},
   "source": [
    "### One Dry Run Manually"
   ]
  },
  {
   "cell_type": "code",
   "execution_count": 342,
   "id": "02059961-bf1d-4894-9dee-f594d868891b",
   "metadata": {},
   "outputs": [],
   "source": [
    "from googlesearch import search\n",
    "\n",
    "def fetch_top_search_results(query: str, num_results: int = 3) -> list[str]:\n",
    "    \"\"\"\n",
    "    Performs a Google Search Query of the given string and displays the top X results (by default 3).\n",
    "    \n",
    "    Parameters:\n",
    "    query (str): The search text for the google search, e.g. \"Best remote working companies\".\n",
    "    num_results (int): The number of results to be displayed, e.g. by default the top 3 links.\n",
    "    \n",
    "    Returns:\n",
    "    list: A list of the top X (num_results) links that were found when perforing the Google Query.\n",
    "    \"\"\"\n",
    "    search_results = search(query, num_results=num_results)\n",
    "    results_list = []\n",
    "    for items in search_results:\n",
    "        results_list.append(items)\n",
    "    return results_list"
   ]
  },
  {
   "cell_type": "code",
   "execution_count": 367,
   "id": "8dd57037-b599-4241-ae09-5e4a5488a67e",
   "metadata": {},
   "outputs": [],
   "source": [
    "from bs4 import BeautifulSoup  # Import the BeautifulSoup library for parsing HTML\n",
    "import requests  # Import the requests library for making HTTP requests\n",
    "\n",
    "def extract_text_html_companies(url: str) -> str:\n",
    "    \"\"\"\n",
    "    Extracts and cleans text content from a given URL.\n",
    "    \n",
    "    Parameters:\n",
    "    url (str): The URL of the webpage from which to extract text.\n",
    "    \n",
    "    Returns:\n",
    "    str: The cleaned text content from the webpage, or an error message if the URL could not be fetched.\n",
    "    \"\"\"\n",
    "    try:\n",
    "        # Set headers to mimic a browser visit, which can help avoid being blocked by the website\n",
    "        headers = {\n",
    "            'User-Agent': 'Mozilla/5.0 (Windows NT 10.0; Win64; x64) AppleWebKit/537.36 (KHTML, like Gecko) Chrome/91.0.4472.124 Safari/537.36'\n",
    "        }\n",
    "        # Make an HTTP GET request to the specified URL with the given headers and a timeout of 30 seconds\n",
    "        response = requests.get(url, headers=headers, timeout=30)\n",
    "        \n",
    "        # Raise an HTTPError if the HTTP request returned an unsuccessful status code\n",
    "        response.raise_for_status()\n",
    "        \n",
    "        # Parse the HTML content of the response\n",
    "        soup = BeautifulSoup(response.content, 'html.parser')\n",
    "        \n",
    "        # Extract and clean text content from the HTML\n",
    "        # The separator '|' ensures spaces between the text of different tags\n",
    "        text_content = soup.get_text(separator='|')\n",
    "        \n",
    "        # Remove extra spaces from the extracted text content\n",
    "        clean_text = ' '.join(text_content.split())\n",
    "\n",
    "        if len(clean_text)>25000:\n",
    "            pattern = r'\\|([^|]+)\\|'\n",
    "    \n",
    "            # Use re.findall to extract all occurrences of the pattern\n",
    "            tokens = re.findall(pattern, clean_text)\n",
    "\n",
    "            clean_text = \"|\".join([word for word in tokens if len(word)<50])\n",
    "            \n",
    "        \n",
    "        # Return the cleaned text content\n",
    "        return clean_text\n",
    "    \n",
    "    except requests.exceptions.RequestException as e:\n",
    "        # Return an error message if an exception occurs during the HTTP request\n",
    "        return f\"Error fetching URL: {e}\""
   ]
  },
  {
   "cell_type": "markdown",
   "id": "3e960180-9e21-42e0-8048-a1fa074b08b3",
   "metadata": {},
   "source": [
    "### Fetch Results for top lists of companies for remote work"
   ]
  },
  {
   "cell_type": "code",
   "execution_count": 334,
   "id": "304ae581-c75c-40bc-81a8-49b6b1da823c",
   "metadata": {},
   "outputs": [],
   "source": [
    "results = fetch_top_search_results(\"best remote working companies\")"
   ]
  },
  {
   "cell_type": "code",
   "execution_count": 335,
   "id": "59fd89e4-4628-4e23-8341-93de5cf6c7de",
   "metadata": {},
   "outputs": [
    {
     "data": {
      "text/plain": [
       "['https://www.indeed.com/career-advice/finding-a-job/best-remote-work-companies',\n",
       " 'https://weworkremotely.com/top-remote-companies',\n",
       " 'https://www.forbes.com/sites/laurabegleybloom/2024/01/25/work-from-home-or-anywhere-top-30-companies-for-remote-jobs-in-2024/']"
      ]
     },
     "execution_count": 335,
     "metadata": {},
     "output_type": "execute_result"
    }
   ],
   "source": [
    "results"
   ]
  },
  {
   "cell_type": "markdown",
   "id": "7c0139cb-8558-4511-a565-1b7e54592ef4",
   "metadata": {},
   "source": [
    "### In Example extract HTML from one of those links (later will be loop)"
   ]
  },
  {
   "cell_type": "code",
   "execution_count": 282,
   "id": "d157254d-7463-45d9-bf7c-72e3cbfef16f",
   "metadata": {},
   "outputs": [],
   "source": [
    "extract = extract_text_html(\"https://www.forbes.com/sites/laurabegleybloom/2024/01/25/work-from-home-or-anywhere-top-30-companies-for-remote-jobs-in-2024/\")"
   ]
  },
  {
   "cell_type": "code",
   "execution_count": 283,
   "id": "4ef466ce-6c5f-4cdb-9e5a-64d36640c6b2",
   "metadata": {},
   "outputs": [
    {
     "data": {
      "text/plain": [
       "11719"
      ]
     },
     "execution_count": 283,
     "metadata": {},
     "output_type": "execute_result"
    }
   ],
   "source": [
    "len(extract)"
   ]
  },
  {
   "cell_type": "markdown",
   "id": "a82f83c4-e672-4435-91ae-ccf862aee7a1",
   "metadata": {},
   "source": [
    "### Different measures to compress and reduce text length"
   ]
  },
  {
   "cell_type": "code",
   "execution_count": 286,
   "id": "4bae01fa-7f52-40d9-902c-081ed351fe46",
   "metadata": {},
   "outputs": [
    {
     "data": {
      "text/plain": [
       "11719"
      ]
     },
     "execution_count": 286,
     "metadata": {},
     "output_type": "execute_result"
    }
   ],
   "source": [
    "#temp\n",
    "len(extract)"
   ]
  },
  {
   "cell_type": "code",
   "execution_count": 297,
   "id": "32de3556-fe03-446f-9065-a1172819b724",
   "metadata": {},
   "outputs": [],
   "source": [
    "import re\n",
    "\n",
    "def custom_tokenizer(text):\n",
    "    # Define the pattern to find content within | |\n",
    "    pattern = r'\\|([^|]+)\\|'\n",
    "    \n",
    "    # Use re.findall to extract all occurrences of the pattern\n",
    "    tokens = re.findall(pattern, text)\n",
    "    \n",
    "    return tokens\n",
    "\n",
    "tokens = custom_tokenizer(extract)"
   ]
  },
  {
   "cell_type": "code",
   "execution_count": 290,
   "id": "d17d0204-2b25-4333-8378-648b5d616c5f",
   "metadata": {},
   "outputs": [],
   "source": [
    "clean_text = \" | \".join(token for token in tokens)"
   ]
  },
  {
   "cell_type": "code",
   "execution_count": 293,
   "id": "9ab67d7b-59dc-43ff-944f-95a2323cdacb",
   "metadata": {},
   "outputs": [
    {
     "data": {
      "text/plain": [
       "4236"
      ]
     },
     "execution_count": 293,
     "metadata": {},
     "output_type": "execute_result"
    }
   ],
   "source": [
    "len(clean_text)"
   ]
  },
  {
   "cell_type": "markdown",
   "id": "cf9e624d-02dd-4abf-a060-912ba5c5a4ac",
   "metadata": {},
   "source": [
    "### Checking with Chat Bot to extract company names (usually losing a few companies here)"
   ]
  },
  {
   "cell_type": "code",
   "execution_count": 296,
   "id": "5c873303-6b60-4944-bdf7-608e88ea36eb",
   "metadata": {},
   "outputs": [
    {
     "name": "stdout",
     "output_type": "stream",
     "text": [
      "\u001b[31m\n",
      ">>>>>>>> USING AUTO REPLY...\u001b[0m\n",
      "FluentU, Static Media, Kraken, Chainlink Labs, Veeva, Invisible Technologies, Wikimedia Foundation, Finixio, Oyster HR, Canonical, Remote Technology, Inc., Study.com, Magic Media & Entertainment Group, Superside, Yodo1, Outliant, Cozymeal, Nethermind, Sourcegraph, Verra, Carry1st, Consensys, Hypixel Studios, Screen Rant, Crimson Education, e2f, Xapo Bank, Cash App, Scopic Software, Binance.\n"
     ]
    }
   ],
   "source": [
    "reply = conv_agent.generate_reply(messages=[{\"content\": f\"\"\"This text is sequential and after some point a top list of companies to\n",
    "work remotely for is given. Please list to me all of these companies that are great for working remote. Don't use any other words than the company name, dont use a bullet list, \n",
    "dont use numbers, just comma separate all companies you find: {clean_text}\"\"\", \"role\": \"user\"}])\n",
    "print(reply)"
   ]
  },
  {
   "cell_type": "markdown",
   "id": "e194e122-8234-4f8f-ac04-3fb475cb3651",
   "metadata": {},
   "source": [
    "### Now we need to somehow store this response in a list"
   ]
  },
  {
   "cell_type": "code",
   "execution_count": 298,
   "id": "a13ca7f4-3770-461a-8609-57a7f6d6512f",
   "metadata": {},
   "outputs": [
    {
     "name": "stdout",
     "output_type": "stream",
     "text": [
      "['FluentU', 'Static Media', 'Kraken', 'Chainlink Labs', 'Veeva', 'Invisible Technologies', 'Wikimedia Foundation', 'Finixio', 'Oyster HR', 'Canonical', 'Remote Technology', 'Inc.', 'Study.com', 'Magic Media & Entertainment Group', 'Superside', 'Yodo1', 'Outliant', 'Cozymeal', 'Nethermind', 'Sourcegraph', 'Verra', 'Carry1st', 'Consensys', 'Hypixel Studios', 'Screen Rant', 'Crimson Education', 'e2f', 'Xapo Bank', 'Cash App', 'Scopic Software', 'Binance.']\n"
     ]
    }
   ],
   "source": [
    "# Split the response string into individual company names\n",
    "company_names = reply.split(\", \")\n",
    "\n",
    "# Print the list of company names\n",
    "print(company_names)"
   ]
  },
  {
   "cell_type": "markdown",
   "id": "e85f6bfe-21fd-470a-b1db-b8ed44bfcee0",
   "metadata": {},
   "source": [
    "### Next step would be iterating and finding career page of each company"
   ]
  },
  {
   "cell_type": "code",
   "execution_count": 301,
   "id": "ba1067f2-e4bf-47f6-99e8-cda9d26c5f4e",
   "metadata": {},
   "outputs": [],
   "source": [
    "example_company = company_names[3]"
   ]
  },
  {
   "cell_type": "code",
   "execution_count": 302,
   "id": "ae3bebfa-1aed-40a4-a9f2-91ade94a8c3a",
   "metadata": {},
   "outputs": [
    {
     "data": {
      "text/plain": [
       "'Chainlink Labs'"
      ]
     },
     "execution_count": 302,
     "metadata": {},
     "output_type": "execute_result"
    }
   ],
   "source": [
    "example_company"
   ]
  },
  {
   "cell_type": "code",
   "execution_count": 303,
   "id": "c1dbc6bd-dd4e-4b51-86a7-6a1f1a17ec19",
   "metadata": {},
   "outputs": [],
   "source": [
    "search_results = fetch_top_search_results(f\"{example_company} career page\",5)"
   ]
  },
  {
   "cell_type": "code",
   "execution_count": 304,
   "id": "8cf7ac49-d205-43fc-8d67-17b1f5fbcbca",
   "metadata": {},
   "outputs": [
    {
     "name": "stdout",
     "output_type": "stream",
     "text": [
      "https://chainlinklabs.com/careers\n",
      "https://jobs.lever.co/chainlink\n",
      "https://www.linkedin.com/jobs/chainlink-labs-jobs-worldwide\n",
      "https://chainlinklabs.com/\n",
      "https://web3.career/web3-companies/chainlink\n",
      "https://www.linkedin.com/company/chainlink-labs/jobs\n",
      "https://cryptocurrencyjobs.co/startups/chainlink-labs/\n"
     ]
    }
   ],
   "source": [
    "results_list = []\n",
    "\n",
    "for items in search_results:\n",
    "    results_list.append(items)\n",
    "    print(items)"
   ]
  },
  {
   "cell_type": "code",
   "execution_count": 305,
   "id": "6c62e7c0-bca4-44ee-83b3-a36939795bdc",
   "metadata": {},
   "outputs": [],
   "source": [
    "jobs_link = results_list[0]"
   ]
  },
  {
   "cell_type": "markdown",
   "id": "d6081589-aef0-412c-9f7e-da86f9c6099f",
   "metadata": {},
   "source": [
    "### Again fetch the HTML Page to find open positions"
   ]
  },
  {
   "cell_type": "code",
   "execution_count": 306,
   "id": "e3464789-d765-48d4-83a4-a9179d7c6bc9",
   "metadata": {},
   "outputs": [],
   "source": [
    "jobs_extract = extract_text_html(jobs_link)"
   ]
  },
  {
   "cell_type": "code",
   "execution_count": 307,
   "id": "92a78186-5fa1-4018-ab15-b0a5b8f01d61",
   "metadata": {},
   "outputs": [
    {
     "data": {
      "text/plain": [
       "'Careers | Chainlink Labs| | | | | | | |Research|See open roles|NEW PILOT|Sygnum and Fidelity International Collaborate With Chainlink To Provide Fund NAV Data Onchain.|Read now.|Join us to help build a| world powered by truth|Explore the open positions at Chainlink Labs| | | | |Chainlink Labs|Research|Careers|WE ARE HIRING!|Resources|Chainlink Blog|Contact Us|research@chainlinklabs.com|Legal Support|Legal|© Chainlink Labs – |Code of Conduct| Privacy Policy|Terms of Use|Language| | |English|Spanish| | | |'"
      ]
     },
     "execution_count": 307,
     "metadata": {},
     "output_type": "execute_result"
    }
   ],
   "source": [
    "jobs_extract"
   ]
  },
  {
   "cell_type": "code",
   "execution_count": 372,
   "id": "e48fb3d6-3cd6-40ed-bfdc-6cbc165344b7",
   "metadata": {
    "scrolled": true
   },
   "outputs": [],
   "source": [
    "from selenium import webdriver\n",
    "from selenium.webdriver.chrome.options import Options\n",
    "from selenium.webdriver.common.by import By\n",
    "from selenium.webdriver.support.ui import WebDriverWait\n",
    "from selenium.webdriver.support import expected_conditions as ec\n",
    "from selenium.webdriver.common.action_chains import ActionChains\n",
    "from bs4 import BeautifulSoup\n",
    "import time\n",
    "import random\n",
    "\n",
    "def scrape_career_website(url: str) -> str:\n",
    "    \"\"\"\n",
    "    This function scrapes the career page of a company website for all text.\n",
    "\n",
    "    Parameters:\n",
    "    url (str): The URL of the website that needs to be scraped.\n",
    "\n",
    "    Returns:\n",
    "    str: The whole webpage formatted as text of the career page, useful for further analysis (to find open data positions).\n",
    "    \"\"\"\n",
    "\n",
    "    # Selenium options\n",
    "    options = Options()\n",
    "    # Add the flag to disable webdriver detection\n",
    "    options.add_experimental_option(\"excludeSwitches\", [\"enable-automation\"])\n",
    "    options.add_experimental_option('useAutomationExtension', False)\n",
    "    options.add_argument(\"--disable-blink-features=AutomationControlled\")\n",
    "    options.add_argument(\"user-agent=Mozilla/5.0 (Windows NT 10.0; Win64; x64) AppleWebKit/537.36 (KHTML, like Gecko) Chrome/126.0.0.0 Safari/537.3\")\n",
    "    #options.add_argument(\"--headless\")\n",
    "\n",
    "    # Initialize WebDriver\n",
    "    driver = webdriver.Chrome(options=options)\n",
    "\n",
    "    try:\n",
    "        # Open the URL\n",
    "        driver.get(url)\n",
    "        \n",
    "        # Simulate human-like scrolling behavior\n",
    "        scroll_count = 5\n",
    "        for _ in range(scroll_count):\n",
    "            driver.execute_script(\"window.scrollTo(0, document.body.scrollHeight);\")\n",
    "            time.sleep(random.uniform(1, 3))  # Random delay between 1 to 3 seconds\n",
    "        \n",
    "        # Wait for the entire page to load\n",
    "        wait = WebDriverWait(driver, 30)\n",
    "        \n",
    "        # Parse the HTML after page is fully loaded\n",
    "        soup = BeautifulSoup(driver.page_source, 'html.parser')\n",
    "        \n",
    "        # Extract and clean text content\n",
    "        text_content = soup.get_text(separator=' | ')  # Ensure spaces between tags' text\n",
    "        clean_text = ' '.join(text_content.split())  # Remove extra spaces\n",
    "        \n",
    "        return clean_text\n",
    "    \n",
    "    finally:\n",
    "        # Close the WebDriver session\n",
    "        driver.quit()"
   ]
  },
  {
   "cell_type": "code",
   "execution_count": 309,
   "id": "88b0f7bf-3653-4eb6-a604-2d369c7989ba",
   "metadata": {
    "scrolled": true
   },
   "outputs": [
    {
     "name": "stdout",
     "output_type": "stream",
     "text": [
      "Careers | Chainlink Labs | | | | | | | | Research | See open roles | NEW PILOT | Sygnum and Fidelity International Collaborate With Chainlink To Provide Fund NAV Data Onchain. | Read now. | Join us to help build a | world powered by truth | Explore the open positions at Chainlink Labs | | Engineering | Capital Markets | Finance | Go To Market | Marketing | Operations | People | Product | Research | Security | | Engineering | Engineering Manager, Blockchain Integrations | Engineering | United Kingdom / Remote | Remote - Full-time | Engineering Manager, Cross-Chain Interoperability Protocol (CCIP) | Engineering | United States / Remote | Remote - Full-time | Engineering Manager, Economics | Engineering | United States / Remote | Remote - Full-time | Engineering Manager, Payments | Engineering | United States / Remote | Remote - Full-time | Engineering Manager, Release Engineering | Engineering | United Kingdom / Remote | Remote - Full-time | Engineering Manager, SRE | Engineering | Germany / Remote | Remote - Full-time | Principal Architect - Platform | Engineering | United States / Remote | Remote - Full-time | Principal Engineer | Engineering | United States / Remote | Remote - Full-time | Senior Engineer, Data | Engineering | Spain / Remote | Remote - Full-time | Senior Software Engineer (Backend) - EMEA | Engineering | United Kingdom / Remote | Uncategorized | Senior Software Engineer (Backend) - LATAM | Engineering | Argentina / Remote | Remote - Full-time | Senior Software Engineer (Backend) - Western Europe | Engineering | Germany / Remote | Remote - Full-time | Senior Software Engineer in Test (Golang required) - North America | Engineering | Canada / Remote | Remote - Full-time | Senior Software Engineer, Cross Chain Interoperability Protocol | Engineering | Canada / Remote | Remote - Full-time | Senior Software Engineer, Golang | Engineering | Spain / Remote | Remote - Full-time | Senior Software Engineer/Analyst - Blockchain Integrations (North America / South America based) | Engineering | Canada / Remote | Remote - Full-time | Site Reliability Engineer - LATAM | Engineering | Brazil / Remote | Remote - Full-time | Smart Contract, Solidity Engineer (Cross Chain) | Engineering | Canada / Remote | Remote - Full-time | Staff Software Engineer, Integration Tooling | Engineering | United Kingdom / Remote | Remote - Full-time | Technical Program Manager, Core Services (Front End / Economics) | Engineering | Argentina / Remote | Remote - Full-time | Capital Markets | Senior Writer, Capital Markets | Capital Markets | United Kingdom / Remote | Remote - Full-time | Solutions Architect - Capital Markets (LATAM) | Capital Markets | Brazil / Remote | Remote - Full-time | Finance | Accounting & Financial Reporting, Accountant | Finance | United States / Remote | Remote - Full-time | Quant Financial Engineer | Finance | Netherlands / Remote | Remote - Full-time | Senior Tax Analyst | Finance | United States / Remote | Remote - Full-time | Treasury Associate | Finance | United Kingdom / Remote | Uncategorized | Go To Market | APAC Business Development | Go To Market | Singapore / Remote | Remote - Full-time | Blockchain Partnerships Development Manager | Go To Market | United Kingdom / Remote | Remote - Full-time | Director of Solutions Architecture | Go To Market | United Kingdom / Remote | Remote - Full-time | Partner Account Manager Lead | Go To Market | United Kingdom / Remote | Remote - Full-time | Partner Ecosystem Director | Go To Market | United Kingdom / Remote | Remote - Full-time | Protocol Specialist | Go To Market | Netherlands / Remote | Remote - Full-time | Solutions Architect | Go To Market | United Kingdom / Remote | Remote - Full-time | Solutions Architect, BUILD (APAC) | Go To Market | China / Remote | Remote - Full-time | Marketing | Growth Marketer, Data Analytics | Marketing | Spain / Remote | Remote - Full-time | Operations | Business Operations Manager | Operations | Mexico / Remote | Remote - Full-time | People | Director of People Technology | People | United Kingdom / Remote | Remote - Full-time | People Analytics and Insights Analyst | People | Brazil / Remote | Remote - Full-time | People Business Associate, Tech | People | Brazil / Remote | Remote - Full-time | People Business Partner, Enablement | People | Brazil / Remote | Remote - Full-time | People Data Analyst | People | Netherlands / Remote | Remote - Full-time | Program Manager - Talent Management and Culture | People | Netherlands / Remote | Remote - Full-time | Product | Product Management Director, Data Feeds | Product | United Kingdom / Remote | Remote - Full-time | Product Manager- Data Feeds | Product | United Kingdom / Remote | Remote - Full-time | Product Manager, CCIP | Product | United States / Remote | Remote - Full-time | Product Manager, Core Services | Product | United Kingdom / Remote | Remote - Full-time | Product Manager, Data Operations Platform | Product | Canada / Remote | Remote - Full-time | Product Manager, Enterprise Deployment | Product | United Kingdom / Remote | Remote - Full-time | Research | Research Engineer | Research | United States / Remote | Remote - Full-time | Research Engineer, Applied Scientist | Research | United States / Remote | Remote - Full-time | Research Internship | Research | United States / Remote | Remote - Intern | Rust Security Engineer | Research | United Kingdom / Remote | Remote - Full-time | Security | Blockchain Operations Technical Analyst | Security | United Kingdom / Remote | Remote - Full-time | Security Engineer, Product Security | Security | United States / Remote | Remote - Full-time | Security Governance and Risk Specialist | Security | Canada / Remote | Remote - Full-time | Security Response Engineer | Security | United Kingdom / Remote | Remote - Full-time | Senior Full-Stack Engineer | Security | United States / Remote | Remote - Full-time | Technical Program Manager, IT/Security | Security | United States / Remote | Remote - Full-time | | | Chainlink Labs | Research | Careers | WE ARE HIRING! | Resources | Chainlink Blog | Contact Us | research@chainlinklabs.com | Legal Support | Legal | © Chainlink Labs – | 2024 | Code of Conduct | Privacy Policy | Terms of Use | Language | | | English | Spanish | | | |\n"
     ]
    }
   ],
   "source": [
    "# Parse the HTML\n",
    "soup = BeautifulSoup(driver.page_source, 'html.parser')\n",
    "\n",
    "# Extract and clean text content\n",
    "text_content = soup.get_text(separator=' | ')  # Ensure spaces between tags' text\n",
    "clean_text = ' '.join(text_content.split())  # Remove extra spaces\n",
    "\n",
    "print(clean_text)"
   ]
  },
  {
   "cell_type": "code",
   "execution_count": 310,
   "id": "37912cc2-930a-4622-b761-f55f12c24bd4",
   "metadata": {},
   "outputs": [
    {
     "data": {
      "text/plain": [
       "6270"
      ]
     },
     "execution_count": 310,
     "metadata": {},
     "output_type": "execute_result"
    }
   ],
   "source": [
    "len(clean_text)"
   ]
  },
  {
   "cell_type": "code",
   "execution_count": 311,
   "id": "fb284f44-1cdf-478a-aaae-9e44b9c46c49",
   "metadata": {
    "jupyter": {
     "source_hidden": true
    }
   },
   "outputs": [],
   "source": [
    "job_title_examples = \"\"\"\n",
    "Data Scientist\n",
    "Machine Learning Engineer\n",
    "AI Research Scientist\n",
    "Data Science Manager\n",
    "Senior Data Scientist\n",
    "NLP Data Scientist\n",
    "Computer Vision Scientist\n",
    "Deep Learning Engineer\n",
    "Data Scientist - Healthcare\n",
    "Data Scientist - Finance\n",
    "Data Science Consultant\n",
    "Research Analyst - Data Science\n",
    "Data Mining Specialist\n",
    "Predictive Modeling Analyst\n",
    "Quantitative Analyst\n",
    "Statistical Modeler\n",
    "Business Intelligence Analyst\n",
    "Data Science Instructor\n",
    "Data Scientist - Marketing Analytics\n",
    "Data Science Intern\n",
    "Data Scientist - Remote Sensing\n",
    "Data Science Team Lead\n",
    "Data Science Architect\n",
    "Data Scientist - Supply Chain\n",
    "Data Engineer - Data Science\n",
    "Data Engineer\n",
    "Big Data Engineer\n",
    "Cloud Data Engineer\n",
    "Senior Data Engineer\n",
    "Data Engineering Manager\n",
    "ETL Developer\n",
    "Data Integration Engineer\n",
    "Database Engineer\n",
    "Hadoop Engineer\n",
    "Data Pipeline Engineer\n",
    "Data Warehouse Architect\n",
    "Data Platform Engineer\n",
    "Real-time Data Engineer\n",
    "Data Infrastructure Specialist\n",
    "Streaming Data Engineer\n",
    "Data Operations Engineer\n",
    "Data Engineering Consultant\n",
    "Data Engineering Analyst\n",
    "Data Engineering Intern\n",
    "Data Engineering Lead\n",
    "Data Analyst\n",
    "Business Data Analyst\n",
    "Financial Data Analyst\n",
    "Marketing Data Analyst\n",
    "Healthcare Data Analyst\n",
    "Operations Data Analyst\n",
    "Senior Data Analyst\n",
    "Reporting Analyst\n",
    "Data Quality Analyst\n",
    "Quantitative Data Analyst\n",
    "Data Visualization Analyst\n",
    "Research Data Analyst\n",
    "Statistical Analyst\n",
    "Data Insights Analyst\n",
    "Data Analysis Consultant\n",
    "Data Analysis Specialist\n",
    "Data Analysis Manager\n",
    "Data Analysis Intern\n",
    "Data Analysis Team Lead\n",
    "Solution Architect\n",
    "Enterprise Solution Architect\n",
    "Cloud Solution Architect\n",
    "Software Solution Architect\n",
    "Data Solution Architect\n",
    "Infrastructure Solution Architect\n",
    "Application Solution Architect\n",
    "Senior Solution Architect\n",
    "Technical Solution Architect\n",
    "Solution Architecture Manager\n",
    "Solution Design Architect\n",
    "Business Solution Architect\n",
    "Solution Architect Consultant\n",
    "IoT Solution Architect\n",
    "AI Solution Architect\n",
    "Solution Architect - Healthcare\n",
    "Solution Architect - Finance\n",
    "Solution Architect - Telecom\n",
    "Solution Architect - Retail\n",
    "Solution Architect - Government\n",
    "Solution Architect - Digital Transformation\n",
    "Solution Architect - E-commerce\n",
    "Solution Architect - ERP\n",
    "Solution Architect - CRM\n",
    "Solution Architect - Security\n",
    "Solution Architect - DevOps\n",
    "Solution Architect - Data Science\n",
    "Data Science Engineer\n",
    "Data Science Analyst\n",
    "Data Science Solutions Architect\n",
    "Data Engineering Scientist\n",
    "Data Analytics Engineer\n",
    "Data Analytics Architect\n",
    "AI Data Scientist\n",
    "Machine Learning Data Engineer\n",
    "Big Data Solution Architect\n",
    "\n",
    "\"\"\""
   ]
  },
  {
   "cell_type": "code",
   "execution_count": 312,
   "id": "c9e3158d-9cee-4e15-98b4-41b58b3b5a40",
   "metadata": {},
   "outputs": [
    {
     "name": "stdout",
     "output_type": "stream",
     "text": [
      "\u001b[31m\n",
      ">>>>>>>> USING AUTO REPLY...\u001b[0m\n",
      "Here are the open positions related to data science, data engineering, data analysis, or similar at Chainlink Labs:\n",
      "\n",
      "1. Senior Engineer, Data | Engineering | Spain / Remote\n",
      "2. Growth Marketer, Data Analytics | Marketing | Spain / Remote\n",
      "3. Senior Software Engineer/Analyst - Blockchain Integrations (North America / South America based) | Engineering | Canada / Remote\n",
      "4. Senior Software Engineer, Golang | Engineering | Spain / Remote\n",
      "5. People Data Analyst | People | Netherlands / Remote\n",
      "6. Product Management Director, Data Feeds | Product | United Kingdom / Remote\n",
      "7. Product Manager- Data Feeds | Product | United Kingdom / Remote\n"
     ]
    }
   ],
   "source": [
    "reply = conv_agent.generate_reply(messages=[{\"content\": f\"From the given text find for me all open positions that are at all related to data science, data engineering, data analysis or similar. Any given job HAS to be within |, this is the seperator (but there can be weird text separated as well, but a job itself is never separated by |): {clean_text}\", \"role\": \"user\"}])\n",
    "print(reply)"
   ]
  },
  {
   "cell_type": "markdown",
   "id": "0b98d9f7-540f-4052-9b45-2e083a1e703f",
   "metadata": {},
   "source": [
    "# Now trying to build the agents with the tools to run this in a loop"
   ]
  },
  {
   "cell_type": "code",
   "execution_count": 369,
   "id": "93bbbe1f-5479-4949-9ee1-516bb6bbcfee",
   "metadata": {},
   "outputs": [
    {
     "data": {
      "text/plain": [
       "<function __main__.scrape_career_website(url: str) -> str>"
      ]
     },
     "execution_count": 369,
     "metadata": {},
     "output_type": "execute_result"
    }
   ],
   "source": [
    "import os\n",
    "\n",
    "from autogen import ConversableAgent\n",
    "\n",
    "# Let's first define the assistant agent that suggests tool calls.\n",
    "assistant = ConversableAgent(\n",
    "    name=\"Assistant\",\n",
    "    system_message=\"You are a helpful AI assistant. \"\n",
    "    \"You can help with extracting text from HTMLs and searching things on Google. \"\n",
    "    \"Return 'TERMINATE' when the task is done.\",\n",
    "    llm_config={\"config_list\": [{\"model\": \"gpt-3.5-turbo\", \"api_key\": os.environ[\"OPENAI_API_KEY\"]}]},\n",
    ")\n",
    "\n",
    "# The user proxy agent is used for interacting with the assistant agent\n",
    "# and executes tool calls.\n",
    "user_proxy = ConversableAgent(\n",
    "    name=\"User\",\n",
    "    llm_config=False,\n",
    "    is_termination_msg=lambda msg: msg.get(\"content\") is not None and \"TERMINATE\" in msg[\"content\"],\n",
    "    human_input_mode=\"NEVER\",\n",
    ")\n",
    "\n",
    "# Register the tool signature with the assistant agent.\n",
    "assistant.register_for_llm(name=\"html_text_scraper_companies\", description=\"Scraping HTML Link for Text for finding Company names\")(extract_text_html_companies)\n",
    "assistant.register_for_llm(name=\"fetch_top_search_results\", description=\"Google Search for Top Results of best remote jobs\")(fetch_top_search_results)\n",
    "assistant.register_for_llm(name=\"scrape_career_website\", description=\"Scrape all text from given URL of the career site of a company to find data related jobs\")(scrape_career_website)\n",
    "\n",
    "# Register the tool function with the user proxy agent.\n",
    "user_proxy.register_for_execution(name=\"html_text_scraper_companies\")(extract_text_html_companies)\n",
    "user_proxy.register_for_execution(name=\"fetch_top_search_results\")(fetch_top_search_results)\n",
    "user_proxy.register_for_execution(name=\"scrape_career_website\")(scrape_career_website)\n"
   ]
  },
  {
   "cell_type": "code",
   "execution_count": 371,
   "id": "6316aba3-1b2a-46f6-9a96-d57125aa7d94",
   "metadata": {},
   "outputs": [
    {
     "name": "stdout",
     "output_type": "stream",
     "text": [
      "\u001b[33mUser\u001b[0m (to Assistant):\n",
      "\n",
      "Do NOT parallelize the workflow, follow this from top to bottom and if it \n",
      "fails check the previous output to go to another company or another link:\n",
      "\n",
      "Please search Google for 'best fully remote companys (or similar)' and take the \n",
      "first link you receive to extract the html text from that url, try one link after but wait 15 seconds in between at least for it to process \n",
      "until one works. \n",
      "\n",
      "Once you have the cleaned text: \n",
      "This text is sequential and after some point a top list of companies to\n",
      "work remotely for is given. Please list all of these companies that are great for working remote. \n",
      "Don't use any other words than the company name, dont use a bullet list, \n",
      "dont use numbers, just comma separate all companies you find. \n",
      "\n",
      "Then use this first company name to perform another Google Search with \"{company_name} career site\" and decide which of the resulted links is\n",
      "most likely to be the company's career site. If none seem to make senes go with the next company from the previous list.\n",
      "\n",
      "Then use that URL to perform the scrape_career_website tool in order to extract all text from the website. \n",
      "\n",
      "\n",
      "From the given scraped text find for me all open positions that are at all related to data science, data engineering, \n",
      "data analysis or similar. EXTREMELY IMPORTANT: Any given job HAS to be within |, this is the seperator (but there can be weird text separated as well, \n",
      "but a job itself is never separated by |). E.g.: | this is an example text | department | roles | data | product specialist | engineering manager | abc: \n",
      "in here the roles are \"product specialist\" and \"engineering manager\" the rest are not roles.\n",
      "\n",
      "Only do this until it works once\n",
      "and then TERMINATE.\n",
      "\n",
      "--------------------------------------------------------------------------------\n",
      "\u001b[31m\n",
      ">>>>>>>> USING AUTO REPLY...\u001b[0m\n",
      "\u001b[33mAssistant\u001b[0m (to User):\n",
      "\n",
      "\u001b[32m***** Suggested tool call (call_vQ0e9T2ocWz0ug0nVUiqYsFD): fetch_top_search_results *****\u001b[0m\n",
      "Arguments: \n",
      "{\"query\":\"best fully remote companies\",\"num_results\":1}\n",
      "\u001b[32m*****************************************************************************************\u001b[0m\n",
      "\n",
      "--------------------------------------------------------------------------------\n",
      "\u001b[35m\n",
      ">>>>>>>> EXECUTING FUNCTION fetch_top_search_results...\u001b[0m\n",
      "\u001b[33mUser\u001b[0m (to Assistant):\n",
      "\n",
      "\u001b[33mUser\u001b[0m (to Assistant):\n",
      "\n",
      "\u001b[32m***** Response from calling tool (call_vQ0e9T2ocWz0ug0nVUiqYsFD) *****\u001b[0m\n",
      "[\"https://weworkremotely.com/top-remote-companies\", \"https://www.indeed.com/career-advice/finding-a-job/best-remote-work-companies\", \"https://builtin.com/companies/location/fully-remote\"]\n",
      "\u001b[32m**********************************************************************\u001b[0m\n",
      "\n",
      "--------------------------------------------------------------------------------\n",
      "\u001b[31m\n",
      ">>>>>>>> USING AUTO REPLY...\u001b[0m\n",
      "\u001b[33mAssistant\u001b[0m (to User):\n",
      "\n",
      "\u001b[32m***** Suggested tool call (call_emmKrDbgoAMx6WQO4m4QTlea): html_text_scraper_companies *****\u001b[0m\n",
      "Arguments: \n",
      "{\"url\":\"https://weworkremotely.com/top-remote-companies\"}\n",
      "\u001b[32m********************************************************************************************\u001b[0m\n",
      "\n",
      "--------------------------------------------------------------------------------\n",
      "\u001b[35m\n",
      ">>>>>>>> EXECUTING FUNCTION html_text_scraper_companies...\u001b[0m\n",
      "\u001b[33mUser\u001b[0m (to Assistant):\n",
      "\n",
      "\u001b[33mUser\u001b[0m (to Assistant):\n",
      "\n",
      "\u001b[32m***** Response from calling tool (call_emmKrDbgoAMx6WQO4m4QTlea) *****\u001b[0m\n",
      "Categories|Full-Stack Programming|Back-End Programming|Devops and Sysadmin|Product|Sales and Marketing|Contract|Community|Podcast|Slack|Twitter|Linkedin|Job Seekers|New!|New!|FAQ - Job Seekers|Remote Work Resources| Create Account |Sign in|Post a Job|Remote Hiring Guide|Why Choose WWR?|FAQ - Employers|New!|Post a job|Programming|Front-End Programming|Design|Management and Finance|Customer Support|Full-Time|All Other|Blog|Newsletter|Events|Instagram|Facebook|Advanced Job Search | Top Trending Remote Jobs |Top Remote Job Searches|Top 100 Remote Companies|RSS Feed|New!|Employers|Remote Work Trends|Hiring Remote Software Developers|Bundle Pricing| Create Account |Sign In| Get new | listings sent to |Design|Front-End Programming|Customer Support|Sales and Marketing|Product|×|Companies Hiring|Post a job for $299|・|1|Jobs Posted: 572|View Company Profile|Contra|Jobs Posted: 281|View Company Profile|Hotjar|4|Jobs Posted: 216|View Company Profile|Aha!|6|Jobs Posted: 173|View Company Profile|ReCharge Payments|8|Actively Hiring|9|Actively Hiring|10|Jobs Posted: 147|View Company Profile|X-Team|12|Jobs Posted: 134|View Company Profile|Modern Tribe|14|Actively Hiring|15|Jobs Posted: 110|View Company Profile|Automattic|17|Jobs Posted: 107|View Company Profile|Oddball|19|Jobs Posted: 104|View Company Profile|Doximity|Jobs Posted: 102|View Company Profile|Follow Up Boss|22|Jobs Posted: 97|View Company Profile|PhishMe|View Company Profile|Toptal|25|Jobs Posted: 90|26|Jobs Posted: 86|View Company Profile|XM|Jobs Posted: 85|View Company Profile|BBE Marketing Inc|Jobs Posted: 84|View Company Profile|Sticker Mule|Jobs Posted: 82|View Company Profile|Kinsta|31|Jobs Posted: 75|View Company Profile|Hubstaff|33|Jobs Posted: 73|View Company Profile|Animalz|35|Actively Hiring|36|Actively Hiring|37|Jobs Posted: 64|View Company Profile|Bitovi|39|Jobs Posted: 63|View Company Profile|MailerLite|41|Jobs Posted: 62|42|Actively Hiring|43|Jobs Posted: 61|View Company Profile|TutorMe|45|Jobs Posted: 58|View Company Profile|Photobooth Supply Co|47|Jobs Posted: 56|View Company Profile|Lemon.io|Jobs Posted: 55|View Company Profile|Yoko Co|50|Jobs Posted: 53|View Company Profile|Whitespectre|Jobs Posted: 52|View Company Profile|ChartMogul|53|Jobs Posted: 50|View Company Profile|SimpleTexting|55|Jobs Posted: 49|View Company Profile|Creative Force|57|Actively Hiring|58|Jobs Posted: 46|View Company Profile|Intellum|60|Jobs Posted: 46|View Company Profile|Bonfire|62|Jobs Posted: 46|View Company Profile|Circle|64|Actively Hiring|65|Jobs Posted: 45|View Company Profile|Tucows|67|Jobs Posted: 44|View Company Profile|Inside.com|69|Jobs Posted: 43|View Company Profile|CoverGo|71|Jobs Posted: 42|View Company Profile|Customer.io|73|Jobs Posted: 42|View Company Profile|Leadfeeder|75|Jobs Posted: 42|View Company Profile|komoot|77|Jobs Posted: 41|View Company Profile|Ebury|79|Jobs Posted: 40|View Company Profile|iPresence|81|Jobs Posted: 40|View Company Profile|Arc|83|Jobs Posted: 39|View Company Profile|Upright Labs|85|Actively Hiring|86|Jobs Posted: 39|View Company Profile|Stack Builders|88|Jobs Posted: 38|View Company Profile|Nagarro Digital Ventures|90|Jobs Posted: 38|View Company Profile|Cofense|92|Jobs Posted: 38|View Company Profile|SureSwift Capital|94|Actively Hiring|95|Jobs Posted: 38|96|Jobs Posted: 37|View Company Profile|Packlane|98|Jobs Posted: 37|View Company Profile|Skedda|100|Jobs Posted: 36|Top 100 Companies|Newsletter|Events|Terms|Guidelines|32,812| Copyright © 2024 |Remote jobs posted|Back to top ↑|•|•|•|•|•| Copyright © 2024 |Terms|Privacy|Guidelines\n",
      "\u001b[32m**********************************************************************\u001b[0m\n",
      "\n",
      "--------------------------------------------------------------------------------\n",
      "\u001b[31m\n",
      ">>>>>>>> USING AUTO REPLY...\u001b[0m\n",
      "\u001b[33mAssistant\u001b[0m (to User):\n",
      "\n",
      "Aha!, ReCharge Payments, X-Team, Modern Tribe, Automattic, Oddball, Doximity, Follow Up Boss, Toptal, XM, BBE Marketing Inc, Sticker Mule, Kinsta, Hubstaff, Animalz, Bitovi, MailerLite, TutorMe, Photobooth Supply Co, Lemon.io, Yoko Co, Whitespectre, ChartMogul, SimpleTexting, Creative Force, Intellum, Bonfire, Circle, Tucows, Inside.com, CoverGo, Customer.io, Leadfeeder, komoot, Ebury, iPresence, Arc, Upright Labs, Stack Builders, Nagarro Digital Ventures, Cofense, SureSwift Capital, Packlane, Skedda\n",
      "\n",
      "Next: Google Search for \"Aha! career site\"\n",
      "\u001b[32m***** Suggested tool call (call_aDlBxa99jBTDqKe3InMTMSlE): fetch_top_search_results *****\u001b[0m\n",
      "Arguments: \n",
      "{\"query\":\"Aha! career site\",\"num_results\":1}\n",
      "\u001b[32m*****************************************************************************************\u001b[0m\n",
      "\n",
      "--------------------------------------------------------------------------------\n",
      "\u001b[35m\n",
      ">>>>>>>> EXECUTING FUNCTION fetch_top_search_results...\u001b[0m\n",
      "\u001b[33mUser\u001b[0m (to Assistant):\n",
      "\n",
      "\u001b[33mUser\u001b[0m (to Assistant):\n",
      "\n",
      "\u001b[32m***** Response from calling tool (call_aDlBxa99jBTDqKe3InMTMSlE) *****\u001b[0m\n",
      "[\"https://heart.jobs/jobs/\", \"https://ahacentre.org/job/\", \"https://heart.jobs/\"]\n",
      "\u001b[32m**********************************************************************\u001b[0m\n",
      "\n",
      "--------------------------------------------------------------------------------\n",
      "\u001b[31m\n",
      ">>>>>>>> USING AUTO REPLY...\u001b[0m\n",
      "\u001b[33mAssistant\u001b[0m (to User):\n",
      "\n",
      "\u001b[32m***** Suggested tool call (call_QsqrzhMY4odSQiISZPCtSHm1): fetch_top_search_results *****\u001b[0m\n",
      "Arguments: \n",
      "{\"query\":\"ReCharge Payments career site\",\"num_results\":1}\n",
      "\u001b[32m*****************************************************************************************\u001b[0m\n",
      "\n",
      "--------------------------------------------------------------------------------\n",
      "\u001b[35m\n",
      ">>>>>>>> EXECUTING FUNCTION fetch_top_search_results...\u001b[0m\n",
      "\u001b[33mUser\u001b[0m (to Assistant):\n",
      "\n",
      "\u001b[33mUser\u001b[0m (to Assistant):\n",
      "\n",
      "\u001b[32m***** Response from calling tool (call_QsqrzhMY4odSQiISZPCtSHm1) *****\u001b[0m\n",
      "[\"https://getrecharge.com/careers/\", \"https://boards.greenhouse.io/recharge\", \"https://recharge.recruitee.com/\"]\n",
      "\u001b[32m**********************************************************************\u001b[0m\n",
      "\n",
      "--------------------------------------------------------------------------------\n",
      "\u001b[31m\n",
      ">>>>>>>> USING AUTO REPLY...\u001b[0m\n",
      "\u001b[33mAssistant\u001b[0m (to User):\n",
      "\n",
      "\u001b[32m***** Suggested tool call (call_agpmocwFLXenzzUUM12L9n9e): fetch_top_search_results *****\u001b[0m\n",
      "Arguments: \n",
      "{\"query\":\"X-Team career site\",\"num_results\":1}\n",
      "\u001b[32m*****************************************************************************************\u001b[0m\n",
      "\n",
      "--------------------------------------------------------------------------------\n",
      "\u001b[35m\n",
      ">>>>>>>> EXECUTING FUNCTION fetch_top_search_results...\u001b[0m\n",
      "\u001b[33mUser\u001b[0m (to Assistant):\n",
      "\n",
      "\u001b[33mUser\u001b[0m (to Assistant):\n",
      "\n",
      "\u001b[32m***** Response from calling tool (call_agpmocwFLXenzzUUM12L9n9e) *****\u001b[0m\n",
      "[\"https://x-team.com/engineers\", \"https://x-team.com/\", \"https://weworkremotely.com/company/x-team\"]\n",
      "\u001b[32m**********************************************************************\u001b[0m\n",
      "\n",
      "--------------------------------------------------------------------------------\n",
      "\u001b[31m\n",
      ">>>>>>>> USING AUTO REPLY...\u001b[0m\n",
      "\u001b[33mAssistant\u001b[0m (to User):\n",
      "\n",
      "\u001b[32m***** Suggested tool call (call_rBMitNPZSjrbTM9fkO7mbhyg): fetch_top_search_results *****\u001b[0m\n",
      "Arguments: \n",
      "{\"query\":\"Modern Tribe career site\",\"num_results\":1}\n",
      "\u001b[32m*****************************************************************************************\u001b[0m\n",
      "\n",
      "--------------------------------------------------------------------------------\n",
      "\u001b[35m\n",
      ">>>>>>>> EXECUTING FUNCTION fetch_top_search_results...\u001b[0m\n",
      "\u001b[33mUser\u001b[0m (to Assistant):\n",
      "\n",
      "\u001b[33mUser\u001b[0m (to Assistant):\n",
      "\n",
      "\u001b[32m***** Response from calling tool (call_rBMitNPZSjrbTM9fkO7mbhyg) *****\u001b[0m\n",
      "[\"https://tri.be/careers/\", \"https://modern-tribe.breezy.hr/\", \"https://weworkremotely.com/company/modern-tribe\"]\n",
      "\u001b[32m**********************************************************************\u001b[0m\n",
      "\n",
      "--------------------------------------------------------------------------------\n",
      "\u001b[31m\n",
      ">>>>>>>> USING AUTO REPLY...\u001b[0m\n",
      "\u001b[33mAssistant\u001b[0m (to User):\n",
      "\n",
      "\u001b[32m***** Suggested tool call (call_upHkMfyFpXPjqmQh6UpKyY6l): fetch_top_search_results *****\u001b[0m\n",
      "Arguments: \n",
      "{\"query\":\"Automattic career site\",\"num_results\":1}\n",
      "\u001b[32m*****************************************************************************************\u001b[0m\n",
      "\n",
      "--------------------------------------------------------------------------------\n",
      "\u001b[35m\n",
      ">>>>>>>> EXECUTING FUNCTION fetch_top_search_results...\u001b[0m\n",
      "\u001b[33mUser\u001b[0m (to Assistant):\n",
      "\n",
      "\u001b[33mUser\u001b[0m (to Assistant):\n",
      "\n",
      "\u001b[32m***** Response from calling tool (call_upHkMfyFpXPjqmQh6UpKyY6l) *****\u001b[0m\n",
      "[\"https://automattic.com/work-with-us/\", \"https://www.linkedin.com/jobs/automattic-jobs-worldwide\", \"https://automattic.com/\"]\n",
      "\u001b[32m**********************************************************************\u001b[0m\n",
      "\n",
      "--------------------------------------------------------------------------------\n",
      "\u001b[31m\n",
      ">>>>>>>> USING AUTO REPLY...\u001b[0m\n",
      "\u001b[33mAssistant\u001b[0m (to User):\n",
      "\n",
      "\u001b[32m***** Suggested tool call (call_vqnVxHzcih3VyoEvNlxSSoN7): fetch_top_search_results *****\u001b[0m\n",
      "Arguments: \n",
      "{\"query\":\"Oddball career site\",\"num_results\":1}\n",
      "\u001b[32m*****************************************************************************************\u001b[0m\n",
      "\n",
      "--------------------------------------------------------------------------------\n",
      "\u001b[35m\n",
      ">>>>>>>> EXECUTING FUNCTION fetch_top_search_results...\u001b[0m\n",
      "\u001b[33mUser\u001b[0m (to Assistant):\n",
      "\n",
      "\u001b[33mUser\u001b[0m (to Assistant):\n",
      "\n",
      "\u001b[32m***** Response from calling tool (call_vqnVxHzcih3VyoEvNlxSSoN7) *****\u001b[0m\n",
      "[\"https://oddball.io/jobs/\", \"https://boards.greenhouse.io/oddball\", \"https://www.myoddballs.com/pages/careers\"]\n",
      "\u001b[32m**********************************************************************\u001b[0m\n",
      "\n",
      "--------------------------------------------------------------------------------\n",
      "\u001b[31m\n",
      ">>>>>>>> USING AUTO REPLY...\u001b[0m\n",
      "\u001b[33mAssistant\u001b[0m (to User):\n",
      "\n",
      "\u001b[32m***** Suggested tool call (call_mKDTxabZtnuBEfokZUnJ96cK): fetch_top_search_results *****\u001b[0m\n",
      "Arguments: \n",
      "{\"query\":\"Doximity career site\",\"num_results\":1}\n",
      "\u001b[32m*****************************************************************************************\u001b[0m\n",
      "\n",
      "--------------------------------------------------------------------------------\n",
      "\u001b[35m\n",
      ">>>>>>>> EXECUTING FUNCTION fetch_top_search_results...\u001b[0m\n",
      "\u001b[33mUser\u001b[0m (to Assistant):\n",
      "\n",
      "\u001b[33mUser\u001b[0m (to Assistant):\n",
      "\n",
      "\u001b[32m***** Response from calling tool (call_mKDTxabZtnuBEfokZUnJ96cK) *****\u001b[0m\n",
      "[\"https://www.doximity.com/careers/home\", \"https://workat.doximity.com/positions/\", \"https://www.doximity.com/careers\"]\n",
      "\u001b[32m**********************************************************************\u001b[0m\n",
      "\n",
      "--------------------------------------------------------------------------------\n",
      "\u001b[31m\n",
      ">>>>>>>> USING AUTO REPLY...\u001b[0m\n",
      "\u001b[33mAssistant\u001b[0m (to User):\n",
      "\n",
      "\u001b[32m***** Suggested tool call (call_dsaFosrv6WztrtHRrtlqOJnA): fetch_top_search_results *****\u001b[0m\n",
      "Arguments: \n",
      "{\"query\":\"Follow Up Boss career site\",\"num_results\":1}\n",
      "\u001b[32m*****************************************************************************************\u001b[0m\n",
      "\n",
      "--------------------------------------------------------------------------------\n",
      "\u001b[35m\n",
      ">>>>>>>> EXECUTING FUNCTION fetch_top_search_results...\u001b[0m\n",
      "\u001b[33mUser\u001b[0m (to Assistant):\n",
      "\n",
      "\u001b[33mUser\u001b[0m (to Assistant):\n",
      "\n",
      "\u001b[32m***** Response from calling tool (call_dsaFosrv6WztrtHRrtlqOJnA) *****\u001b[0m\n",
      "[\"https://www.followupboss.com/\", \"https://weworkremotely.com/company/follow-up-boss\", \"https://www.linkedin.com/company/follow-up-boss\"]\n",
      "\u001b[32m**********************************************************************\u001b[0m\n",
      "\n",
      "--------------------------------------------------------------------------------\n",
      "\u001b[31m\n",
      ">>>>>>>> USING AUTO REPLY...\u001b[0m\n",
      "\u001b[33mAssistant\u001b[0m (to User):\n",
      "\n",
      "\u001b[32m***** Suggested tool call (call_6CyaXQCefNAHGDf2Kwq4XS8b): fetch_top_search_results *****\u001b[0m\n",
      "Arguments: \n",
      "{\"query\":\"Toptal career site\",\"num_results\":1}\n",
      "\u001b[32m*****************************************************************************************\u001b[0m\n",
      "\n",
      "--------------------------------------------------------------------------------\n",
      "\u001b[35m\n",
      ">>>>>>>> EXECUTING FUNCTION fetch_top_search_results...\u001b[0m\n",
      "\u001b[33mUser\u001b[0m (to Assistant):\n",
      "\n",
      "\u001b[33mUser\u001b[0m (to Assistant):\n",
      "\n",
      "\u001b[32m***** Response from calling tool (call_6CyaXQCefNAHGDf2Kwq4XS8b) *****\u001b[0m\n",
      "[\"https://www.toptal.com/careers\", \"https://www.toptal.com/freelance-jobs\", \"https://www.toptal.com/developers/jobs/all\"]\n",
      "\u001b[32m**********************************************************************\u001b[0m\n",
      "\n",
      "--------------------------------------------------------------------------------\n",
      "\u001b[31m\n",
      ">>>>>>>> USING AUTO REPLY...\u001b[0m\n",
      "\u001b[33mAssistant\u001b[0m (to User):\n",
      "\n",
      "\u001b[32m***** Suggested tool call (call_tRNamRa4JPR4mieVXTIcpi2r): fetch_top_search_results *****\u001b[0m\n",
      "Arguments: \n",
      "{\"query\":\"XM career site\",\"num_results\":1}\n",
      "\u001b[32m*****************************************************************************************\u001b[0m\n",
      "\n",
      "--------------------------------------------------------------------------------\n",
      "\u001b[35m\n",
      ">>>>>>>> EXECUTING FUNCTION fetch_top_search_results...\u001b[0m\n",
      "\u001b[33mUser\u001b[0m (to Assistant):\n",
      "\n",
      "\u001b[33mUser\u001b[0m (to Assistant):\n",
      "\n",
      "\u001b[32m***** Response from calling tool (call_tRNamRa4JPR4mieVXTIcpi2r) *****\u001b[0m\n",
      "[\"https://www.xm.com/careers\", \"https://careers.siriusxm.com/\", \"https://weworkremotely.com/company/xm\"]\n",
      "\u001b[32m**********************************************************************\u001b[0m\n",
      "\n",
      "--------------------------------------------------------------------------------\n",
      "\u001b[31m\n",
      ">>>>>>>> USING AUTO REPLY...\u001b[0m\n",
      "\u001b[33mAssistant\u001b[0m (to User):\n",
      "\n",
      "\u001b[32m***** Suggested tool call (call_I537FN8BFIQwKmtfrUL4HwPQ): fetch_top_search_results *****\u001b[0m\n",
      "Arguments: \n",
      "{\"query\":\"BBE Marketing Inc career site\",\"num_results\":1}\n",
      "\u001b[32m*****************************************************************************************\u001b[0m\n",
      "\n",
      "--------------------------------------------------------------------------------\n",
      "\u001b[35m\n",
      ">>>>>>>> EXECUTING FUNCTION fetch_top_search_results...\u001b[0m\n",
      "\u001b[33mUser\u001b[0m (to Assistant):\n",
      "\n",
      "\u001b[33mUser\u001b[0m (to Assistant):\n",
      "\n",
      "\u001b[32m***** Response from calling tool (call_I537FN8BFIQwKmtfrUL4HwPQ) *****\u001b[0m\n",
      "[\"https://weworkremotely.com/company/bbe-marketing-inc\", \"https://www.linkedin.com/company/bbe-marketing\"]\n",
      "\u001b[32m**********************************************************************\u001b[0m\n",
      "\n",
      "--------------------------------------------------------------------------------\n",
      "\u001b[31m\n",
      ">>>>>>>> USING AUTO REPLY...\u001b[0m\n",
      "\u001b[33mAssistant\u001b[0m (to User):\n",
      "\n",
      "\u001b[32m***** Suggested tool call (call_5JIgmdjmk9sgoMIMpi4dJwcu): fetch_top_search_results *****\u001b[0m\n",
      "Arguments: \n",
      "{\"query\":\"Sticker Mule career site\",\"num_results\":1}\n",
      "\u001b[32m*****************************************************************************************\u001b[0m\n",
      "\n",
      "--------------------------------------------------------------------------------\n",
      "\u001b[35m\n",
      ">>>>>>>> EXECUTING FUNCTION fetch_top_search_results...\u001b[0m\n",
      "\u001b[33mUser\u001b[0m (to Assistant):\n",
      "\n",
      "\u001b[33mUser\u001b[0m (to Assistant):\n",
      "\n",
      "\u001b[32m***** Response from calling tool (call_5JIgmdjmk9sgoMIMpi4dJwcu) *****\u001b[0m\n",
      "[\"https://www.stickermule.com/careers\", \"https://www.stickermule.com/career/4e5a0f18-b73f-4b99-84ce-059fa91da190\", \"https://jobs.ashbyhq.com/stickermule\"]\n",
      "\u001b[32m**********************************************************************\u001b[0m\n",
      "\n",
      "--------------------------------------------------------------------------------\n",
      "\u001b[31m\n",
      ">>>>>>>> USING AUTO REPLY...\u001b[0m\n",
      "\u001b[33mAssistant\u001b[0m (to User):\n",
      "\n",
      "\u001b[32m***** Suggested tool call (call_OmN0LIXWiocGZexU6u1YHZnF): fetch_top_search_results *****\u001b[0m\n",
      "Arguments: \n",
      "{\"query\":\"Kinsta career site\",\"num_results\":1}\n",
      "\u001b[32m*****************************************************************************************\u001b[0m\n",
      "\n",
      "--------------------------------------------------------------------------------\n",
      "\u001b[35m\n",
      ">>>>>>>> EXECUTING FUNCTION fetch_top_search_results...\u001b[0m\n",
      "\u001b[33mUser\u001b[0m (to Assistant):\n",
      "\n",
      "\u001b[33mUser\u001b[0m (to Assistant):\n",
      "\n",
      "\u001b[32m***** Response from calling tool (call_OmN0LIXWiocGZexU6u1YHZnF) *****\u001b[0m\n",
      "[\"https://kinsta.com/careers/\", \"https://kinsta.com/careers/design-teams/\", \"https://apply.workable.com/kinsta/?lng=en\"]\n",
      "\u001b[32m**********************************************************************\u001b[0m\n",
      "\n",
      "--------------------------------------------------------------------------------\n",
      "\u001b[31m\n",
      ">>>>>>>> USING AUTO REPLY...\u001b[0m\n",
      "\u001b[33mAssistant\u001b[0m (to User):\n",
      "\n",
      "\u001b[32m***** Suggested tool call (call_Wosgz2UeLU9Rh01vs4V5fefm): fetch_top_search_results *****\u001b[0m\n",
      "Arguments: \n",
      "{\"query\":\"Hubstaff career site\",\"num_results\":1}\n",
      "\u001b[32m*****************************************************************************************\u001b[0m\n",
      "\n",
      "--------------------------------------------------------------------------------\n",
      "\u001b[35m\n",
      ">>>>>>>> EXECUTING FUNCTION fetch_top_search_results...\u001b[0m\n",
      "\u001b[33mUser\u001b[0m (to Assistant):\n",
      "\n",
      "\u001b[33mUser\u001b[0m (to Assistant):\n",
      "\n",
      "\u001b[32m***** Response from calling tool (call_Wosgz2UeLU9Rh01vs4V5fefm) *****\u001b[0m\n",
      "[\"https://hubstaff.com/jobs\", \"https://hubstafftalent.net/work\", \"https://support.hubstaff.com/searching-jobs-hubstaff-talent/\"]\n",
      "\u001b[32m**********************************************************************\u001b[0m\n",
      "\n",
      "--------------------------------------------------------------------------------\n",
      "\u001b[31m\n",
      ">>>>>>>> USING AUTO REPLY...\u001b[0m\n",
      "\u001b[33mAssistant\u001b[0m (to User):\n",
      "\n",
      "\u001b[32m***** Suggested tool call (call_bbdk0PqgPWDN25O7cTnCFzp7): fetch_top_search_results *****\u001b[0m\n",
      "Arguments: \n",
      "{\"query\":\"Animalz career site\",\"num_results\":1}\n",
      "\u001b[32m*****************************************************************************************\u001b[0m\n",
      "\n",
      "--------------------------------------------------------------------------------\n",
      "\u001b[35m\n",
      ">>>>>>>> EXECUTING FUNCTION fetch_top_search_results...\u001b[0m\n",
      "\u001b[33mUser\u001b[0m (to Assistant):\n",
      "\n",
      "\u001b[33mUser\u001b[0m (to Assistant):\n",
      "\n",
      "\u001b[32m***** Response from calling tool (call_bbdk0PqgPWDN25O7cTnCFzp7) *****\u001b[0m\n",
      "[\"https://www.animalz.co/join-us/\", \"https://weworkremotely.com/company/animalz\", \"https://www.animalz.co/blog/remote-content-marketing-career/\"]\n",
      "\u001b[32m**********************************************************************\u001b[0m\n",
      "\n",
      "--------------------------------------------------------------------------------\n",
      "\u001b[31m\n",
      ">>>>>>>> USING AUTO REPLY...\u001b[0m\n",
      "\u001b[33mAssistant\u001b[0m (to User):\n",
      "\n",
      "\u001b[32m***** Suggested tool call (call_l7RPW2iobZLn4iBK2jjhwvN1): fetch_top_search_results *****\u001b[0m\n",
      "Arguments: \n",
      "{\"query\":\"Bitovi career site\",\"num_results\":1}\n",
      "\u001b[32m*****************************************************************************************\u001b[0m\n",
      "\n",
      "--------------------------------------------------------------------------------\n",
      "\u001b[35m\n",
      ">>>>>>>> EXECUTING FUNCTION fetch_top_search_results...\u001b[0m\n",
      "\u001b[33mUser\u001b[0m (to Assistant):\n",
      "\n",
      "\u001b[33mUser\u001b[0m (to Assistant):\n",
      "\n",
      "\u001b[32m***** Response from calling tool (call_l7RPW2iobZLn4iBK2jjhwvN1) *****\u001b[0m\n",
      "[\"https://www.bitovi.com/about/jobs\", \"https://bitovi.applytojob.com/\", \"https://www.bitovi.com/\"]\n",
      "\u001b[32m**********************************************************************\u001b[0m\n",
      "\n",
      "--------------------------------------------------------------------------------\n",
      "\u001b[31m\n",
      ">>>>>>>> USING AUTO REPLY...\u001b[0m\n",
      "\u001b[33mAssistant\u001b[0m (to User):\n",
      "\n",
      "\u001b[32m***** Suggested tool call (call_V6wpJfwmycoMVEp4w6SdHqCK): fetch_top_search_results *****\u001b[0m\n",
      "Arguments: \n",
      "{\"query\":\"MailerLite career site\",\"num_results\":1}\n",
      "\u001b[32m*****************************************************************************************\u001b[0m\n",
      "\n",
      "--------------------------------------------------------------------------------\n",
      "\u001b[35m\n",
      ">>>>>>>> EXECUTING FUNCTION fetch_top_search_results...\u001b[0m\n",
      "\u001b[33mUser\u001b[0m (to Assistant):\n",
      "\n",
      "\u001b[33mUser\u001b[0m (to Assistant):\n",
      "\n",
      "\u001b[32m***** Response from calling tool (call_V6wpJfwmycoMVEp4w6SdHqCK) *****\u001b[0m\n",
      "[\"https://www.mailerlite.com/jobs\", \"https://www.mailerlite.com/jobs/application-process\", \"https://weworkremotely.com/company/mailerlite\"]\n",
      "\u001b[32m**********************************************************************\u001b[0m\n",
      "\n",
      "--------------------------------------------------------------------------------\n",
      "\u001b[31m\n",
      ">>>>>>>> USING AUTO REPLY...\u001b[0m\n",
      "\u001b[33mAssistant\u001b[0m (to User):\n",
      "\n",
      "\u001b[32m***** Suggested tool call (call_jPRrdy5FIsXPvEkFOg0VB1kT): fetch_top_search_results *****\u001b[0m\n",
      "Arguments: \n",
      "{\"query\":\"TutorMe career site\",\"num_results\":1}\n",
      "\u001b[32m*****************************************************************************************\u001b[0m\n",
      "\n",
      "--------------------------------------------------------------------------------\n",
      "\u001b[35m\n",
      ">>>>>>>> EXECUTING FUNCTION fetch_top_search_results...\u001b[0m\n",
      "\u001b[33mUser\u001b[0m (to Assistant):\n",
      "\n",
      "\u001b[33mUser\u001b[0m (to Assistant):\n",
      "\n",
      "\u001b[32m***** Response from calling tool (call_jPRrdy5FIsXPvEkFOg0VB1kT) *****\u001b[0m\n",
      "[\"https://apply.workable.com/tutorme-hq/?lng=en\", \"https://apply.workable.com/tutor-me-education-1/?lng=en\", \"https://thetutor.me/lp/tutor/find-online-tutoring-jobs\"]\n",
      "\u001b[32m**********************************************************************\u001b[0m\n",
      "\n",
      "--------------------------------------------------------------------------------\n",
      "\u001b[31m\n",
      ">>>>>>>> USING AUTO REPLY...\u001b[0m\n",
      "\u001b[33mAssistant\u001b[0m (to User):\n",
      "\n",
      "\u001b[32m***** Suggested tool call (call_UG1pPMp13w4WqeevmuChagpE): fetch_top_search_results *****\u001b[0m\n",
      "Arguments: \n",
      "{\"query\":\"Photobooth Supply Co career site\",\"num_results\":1}\n",
      "\u001b[32m*****************************************************************************************\u001b[0m\n",
      "\n",
      "--------------------------------------------------------------------------------\n",
      "\u001b[35m\n",
      ">>>>>>>> EXECUTING FUNCTION fetch_top_search_results...\u001b[0m\n",
      "\u001b[33mUser\u001b[0m (to Assistant):\n",
      "\n",
      "\u001b[33mUser\u001b[0m (to Assistant):\n",
      "\n",
      "\u001b[32m***** Response from calling tool (call_UG1pPMp13w4WqeevmuChagpE) *****\u001b[0m\n",
      "[\"https://photoboothsupplyco.com/pages/careers\", \"https://apply.workable.com/photoboothsuppplyco/?lng=en\", \"https://photoboothsupplyco.com/blogs/current-openings\"]\n",
      "\u001b[32m**********************************************************************\u001b[0m\n",
      "\n",
      "--------------------------------------------------------------------------------\n",
      "\u001b[31m\n",
      ">>>>>>>> USING AUTO REPLY...\u001b[0m\n",
      "\u001b[33mAssistant\u001b[0m (to User):\n",
      "\n",
      "\u001b[32m***** Suggested tool call (call_Jl219XaRXDH2iyoBXYP7y2A3): fetch_top_search_results *****\u001b[0m\n",
      "Arguments: \n",
      "{\"query\":\"Lemon.io career site\",\"num_results\":1}\n",
      "\u001b[32m*****************************************************************************************\u001b[0m\n",
      "\n",
      "--------------------------------------------------------------------------------\n",
      "\u001b[35m\n",
      ">>>>>>>> EXECUTING FUNCTION fetch_top_search_results...\u001b[0m\n"
     ]
    },
    {
     "ename": "KeyboardInterrupt",
     "evalue": "",
     "output_type": "error",
     "traceback": [
      "\u001b[0;31m---------------------------------------------------------------------------\u001b[0m",
      "\u001b[0;31mKeyboardInterrupt\u001b[0m                         Traceback (most recent call last)",
      "Cell \u001b[0;32mIn[371], line 1\u001b[0m\n\u001b[0;32m----> 1\u001b[0m chat_result \u001b[38;5;241m=\u001b[39m \u001b[43muser_proxy\u001b[49m\u001b[38;5;241;43m.\u001b[39;49m\u001b[43minitiate_chat\u001b[49m\u001b[43m(\u001b[49m\u001b[43massistant\u001b[49m\u001b[43m,\u001b[49m\u001b[43m \u001b[49m\u001b[43mmessage\u001b[49m\u001b[38;5;241;43m=\u001b[39;49m\u001b[38;5;124;43m\"\"\"\u001b[39;49m\u001b[38;5;124;43mDo NOT parallelize the workflow, follow this from top to bottom and if it \u001b[39;49m\n\u001b[1;32m      2\u001b[0m \u001b[38;5;124;43mfails check the previous output to go to another company or another link:\u001b[39;49m\n\u001b[1;32m      3\u001b[0m \n\u001b[1;32m      4\u001b[0m \u001b[38;5;124;43mPlease search Google for \u001b[39;49m\u001b[38;5;124;43m'\u001b[39;49m\u001b[38;5;124;43mbest fully remote companys (or similar)\u001b[39;49m\u001b[38;5;124;43m'\u001b[39;49m\u001b[38;5;124;43m and take the \u001b[39;49m\n\u001b[1;32m      5\u001b[0m \u001b[38;5;124;43mfirst link you receive to extract the html text from that url, try one link after but wait 15 seconds in between at least for it to process \u001b[39;49m\n\u001b[1;32m      6\u001b[0m \u001b[38;5;124;43muntil one works. \u001b[39;49m\n\u001b[1;32m      7\u001b[0m \n\u001b[1;32m      8\u001b[0m \u001b[38;5;124;43mOnce you have the cleaned text: \u001b[39;49m\n\u001b[1;32m      9\u001b[0m \u001b[38;5;124;43mThis text is sequential and after some point a top list of companies to\u001b[39;49m\n\u001b[1;32m     10\u001b[0m \u001b[38;5;124;43mwork remotely for is given. Please list all of these companies that are great for working remote. \u001b[39;49m\n\u001b[1;32m     11\u001b[0m \u001b[38;5;124;43mDon\u001b[39;49m\u001b[38;5;124;43m'\u001b[39;49m\u001b[38;5;124;43mt use any other words than the company name, dont use a bullet list, \u001b[39;49m\n\u001b[1;32m     12\u001b[0m \u001b[38;5;124;43mdont use numbers, just comma separate all companies you find. \u001b[39;49m\n\u001b[1;32m     13\u001b[0m \n\u001b[1;32m     14\u001b[0m \u001b[38;5;124;43mThen use this first company name to perform another Google Search with \u001b[39;49m\u001b[38;5;124;43m\"\u001b[39;49m\u001b[38;5;132;43;01m{company_name}\u001b[39;49;00m\u001b[38;5;124;43m career site\u001b[39;49m\u001b[38;5;124;43m\"\u001b[39;49m\u001b[38;5;124;43m and decide which of the resulted links is\u001b[39;49m\n\u001b[1;32m     15\u001b[0m \u001b[38;5;124;43mmost likely to be the company\u001b[39;49m\u001b[38;5;124;43m'\u001b[39;49m\u001b[38;5;124;43ms career site. If none seem to make senes go with the next company from the previous list.\u001b[39;49m\n\u001b[1;32m     16\u001b[0m \n\u001b[1;32m     17\u001b[0m \u001b[38;5;124;43mThen use that URL to perform the scrape_career_website tool in order to extract all text from the website. \u001b[39;49m\n\u001b[1;32m     18\u001b[0m \n\u001b[1;32m     19\u001b[0m \n\u001b[1;32m     20\u001b[0m \u001b[38;5;124;43mFrom the given scraped text find for me all open positions that are at all related to data science, data engineering, \u001b[39;49m\n\u001b[1;32m     21\u001b[0m \u001b[38;5;124;43mdata analysis or similar. EXTREMELY IMPORTANT: Any given job HAS to be within |, this is the seperator (but there can be weird text separated as well, \u001b[39;49m\n\u001b[1;32m     22\u001b[0m \u001b[38;5;124;43mbut a job itself is never separated by |). E.g.: | this is an example text | department | roles | data | product specialist | engineering manager | abc: \u001b[39;49m\n\u001b[1;32m     23\u001b[0m \u001b[38;5;124;43min here the roles are \u001b[39;49m\u001b[38;5;124;43m\"\u001b[39;49m\u001b[38;5;124;43mproduct specialist\u001b[39;49m\u001b[38;5;124;43m\"\u001b[39;49m\u001b[38;5;124;43m and \u001b[39;49m\u001b[38;5;124;43m\"\u001b[39;49m\u001b[38;5;124;43mengineering manager\u001b[39;49m\u001b[38;5;124;43m\"\u001b[39;49m\u001b[38;5;124;43m the rest are not roles.\u001b[39;49m\n\u001b[1;32m     24\u001b[0m \n\u001b[1;32m     25\u001b[0m \u001b[38;5;124;43mOnly do this until it works once\u001b[39;49m\n\u001b[1;32m     26\u001b[0m \u001b[38;5;124;43mand then TERMINATE.\u001b[39;49m\u001b[38;5;124;43m\"\"\"\u001b[39;49m\u001b[43m)\u001b[49m\n",
      "File \u001b[0;32m~/.pyenv/versions/3.10.6/envs/autogen_test/lib/python3.10/site-packages/autogen/agentchat/conversable_agent.py:1018\u001b[0m, in \u001b[0;36mConversableAgent.initiate_chat\u001b[0;34m(self, recipient, clear_history, silent, cache, max_turns, summary_method, summary_args, message, **kwargs)\u001b[0m\n\u001b[1;32m   1016\u001b[0m     \u001b[38;5;28;01melse\u001b[39;00m:\n\u001b[1;32m   1017\u001b[0m         msg2send \u001b[38;5;241m=\u001b[39m \u001b[38;5;28mself\u001b[39m\u001b[38;5;241m.\u001b[39mgenerate_init_message(message, \u001b[38;5;241m*\u001b[39m\u001b[38;5;241m*\u001b[39mkwargs)\n\u001b[0;32m-> 1018\u001b[0m     \u001b[38;5;28;43mself\u001b[39;49m\u001b[38;5;241;43m.\u001b[39;49m\u001b[43msend\u001b[49m\u001b[43m(\u001b[49m\u001b[43mmsg2send\u001b[49m\u001b[43m,\u001b[49m\u001b[43m \u001b[49m\u001b[43mrecipient\u001b[49m\u001b[43m,\u001b[49m\u001b[43m \u001b[49m\u001b[43msilent\u001b[49m\u001b[38;5;241;43m=\u001b[39;49m\u001b[43msilent\u001b[49m\u001b[43m)\u001b[49m\n\u001b[1;32m   1019\u001b[0m summary \u001b[38;5;241m=\u001b[39m \u001b[38;5;28mself\u001b[39m\u001b[38;5;241m.\u001b[39m_summarize_chat(\n\u001b[1;32m   1020\u001b[0m     summary_method,\n\u001b[1;32m   1021\u001b[0m     summary_args,\n\u001b[1;32m   1022\u001b[0m     recipient,\n\u001b[1;32m   1023\u001b[0m     cache\u001b[38;5;241m=\u001b[39mcache,\n\u001b[1;32m   1024\u001b[0m )\n\u001b[1;32m   1025\u001b[0m \u001b[38;5;28;01mfor\u001b[39;00m agent \u001b[38;5;129;01min\u001b[39;00m [\u001b[38;5;28mself\u001b[39m, recipient]:\n",
      "File \u001b[0;32m~/.pyenv/versions/3.10.6/envs/autogen_test/lib/python3.10/site-packages/autogen/agentchat/conversable_agent.py:655\u001b[0m, in \u001b[0;36mConversableAgent.send\u001b[0;34m(self, message, recipient, request_reply, silent)\u001b[0m\n\u001b[1;32m    653\u001b[0m valid \u001b[38;5;241m=\u001b[39m \u001b[38;5;28mself\u001b[39m\u001b[38;5;241m.\u001b[39m_append_oai_message(message, \u001b[38;5;124m\"\u001b[39m\u001b[38;5;124massistant\u001b[39m\u001b[38;5;124m\"\u001b[39m, recipient)\n\u001b[1;32m    654\u001b[0m \u001b[38;5;28;01mif\u001b[39;00m valid:\n\u001b[0;32m--> 655\u001b[0m     \u001b[43mrecipient\u001b[49m\u001b[38;5;241;43m.\u001b[39;49m\u001b[43mreceive\u001b[49m\u001b[43m(\u001b[49m\u001b[43mmessage\u001b[49m\u001b[43m,\u001b[49m\u001b[43m \u001b[49m\u001b[38;5;28;43mself\u001b[39;49m\u001b[43m,\u001b[49m\u001b[43m \u001b[49m\u001b[43mrequest_reply\u001b[49m\u001b[43m,\u001b[49m\u001b[43m \u001b[49m\u001b[43msilent\u001b[49m\u001b[43m)\u001b[49m\n\u001b[1;32m    656\u001b[0m \u001b[38;5;28;01melse\u001b[39;00m:\n\u001b[1;32m    657\u001b[0m     \u001b[38;5;28;01mraise\u001b[39;00m \u001b[38;5;167;01mValueError\u001b[39;00m(\n\u001b[1;32m    658\u001b[0m         \u001b[38;5;124m\"\u001b[39m\u001b[38;5;124mMessage can\u001b[39m\u001b[38;5;124m'\u001b[39m\u001b[38;5;124mt be converted into a valid ChatCompletion message. Either content or function_call must be provided.\u001b[39m\u001b[38;5;124m\"\u001b[39m\n\u001b[1;32m    659\u001b[0m     )\n",
      "File \u001b[0;32m~/.pyenv/versions/3.10.6/envs/autogen_test/lib/python3.10/site-packages/autogen/agentchat/conversable_agent.py:820\u001b[0m, in \u001b[0;36mConversableAgent.receive\u001b[0;34m(self, message, sender, request_reply, silent)\u001b[0m\n\u001b[1;32m    818\u001b[0m reply \u001b[38;5;241m=\u001b[39m \u001b[38;5;28mself\u001b[39m\u001b[38;5;241m.\u001b[39mgenerate_reply(messages\u001b[38;5;241m=\u001b[39m\u001b[38;5;28mself\u001b[39m\u001b[38;5;241m.\u001b[39mchat_messages[sender], sender\u001b[38;5;241m=\u001b[39msender)\n\u001b[1;32m    819\u001b[0m \u001b[38;5;28;01mif\u001b[39;00m reply \u001b[38;5;129;01mis\u001b[39;00m \u001b[38;5;129;01mnot\u001b[39;00m \u001b[38;5;28;01mNone\u001b[39;00m:\n\u001b[0;32m--> 820\u001b[0m     \u001b[38;5;28;43mself\u001b[39;49m\u001b[38;5;241;43m.\u001b[39;49m\u001b[43msend\u001b[49m\u001b[43m(\u001b[49m\u001b[43mreply\u001b[49m\u001b[43m,\u001b[49m\u001b[43m \u001b[49m\u001b[43msender\u001b[49m\u001b[43m,\u001b[49m\u001b[43m \u001b[49m\u001b[43msilent\u001b[49m\u001b[38;5;241;43m=\u001b[39;49m\u001b[43msilent\u001b[49m\u001b[43m)\u001b[49m\n",
      "File \u001b[0;32m~/.pyenv/versions/3.10.6/envs/autogen_test/lib/python3.10/site-packages/autogen/agentchat/conversable_agent.py:655\u001b[0m, in \u001b[0;36mConversableAgent.send\u001b[0;34m(self, message, recipient, request_reply, silent)\u001b[0m\n\u001b[1;32m    653\u001b[0m valid \u001b[38;5;241m=\u001b[39m \u001b[38;5;28mself\u001b[39m\u001b[38;5;241m.\u001b[39m_append_oai_message(message, \u001b[38;5;124m\"\u001b[39m\u001b[38;5;124massistant\u001b[39m\u001b[38;5;124m\"\u001b[39m, recipient)\n\u001b[1;32m    654\u001b[0m \u001b[38;5;28;01mif\u001b[39;00m valid:\n\u001b[0;32m--> 655\u001b[0m     \u001b[43mrecipient\u001b[49m\u001b[38;5;241;43m.\u001b[39;49m\u001b[43mreceive\u001b[49m\u001b[43m(\u001b[49m\u001b[43mmessage\u001b[49m\u001b[43m,\u001b[49m\u001b[43m \u001b[49m\u001b[38;5;28;43mself\u001b[39;49m\u001b[43m,\u001b[49m\u001b[43m \u001b[49m\u001b[43mrequest_reply\u001b[49m\u001b[43m,\u001b[49m\u001b[43m \u001b[49m\u001b[43msilent\u001b[49m\u001b[43m)\u001b[49m\n\u001b[1;32m    656\u001b[0m \u001b[38;5;28;01melse\u001b[39;00m:\n\u001b[1;32m    657\u001b[0m     \u001b[38;5;28;01mraise\u001b[39;00m \u001b[38;5;167;01mValueError\u001b[39;00m(\n\u001b[1;32m    658\u001b[0m         \u001b[38;5;124m\"\u001b[39m\u001b[38;5;124mMessage can\u001b[39m\u001b[38;5;124m'\u001b[39m\u001b[38;5;124mt be converted into a valid ChatCompletion message. Either content or function_call must be provided.\u001b[39m\u001b[38;5;124m\"\u001b[39m\n\u001b[1;32m    659\u001b[0m     )\n",
      "File \u001b[0;32m~/.pyenv/versions/3.10.6/envs/autogen_test/lib/python3.10/site-packages/autogen/agentchat/conversable_agent.py:820\u001b[0m, in \u001b[0;36mConversableAgent.receive\u001b[0;34m(self, message, sender, request_reply, silent)\u001b[0m\n\u001b[1;32m    818\u001b[0m reply \u001b[38;5;241m=\u001b[39m \u001b[38;5;28mself\u001b[39m\u001b[38;5;241m.\u001b[39mgenerate_reply(messages\u001b[38;5;241m=\u001b[39m\u001b[38;5;28mself\u001b[39m\u001b[38;5;241m.\u001b[39mchat_messages[sender], sender\u001b[38;5;241m=\u001b[39msender)\n\u001b[1;32m    819\u001b[0m \u001b[38;5;28;01mif\u001b[39;00m reply \u001b[38;5;129;01mis\u001b[39;00m \u001b[38;5;129;01mnot\u001b[39;00m \u001b[38;5;28;01mNone\u001b[39;00m:\n\u001b[0;32m--> 820\u001b[0m     \u001b[38;5;28;43mself\u001b[39;49m\u001b[38;5;241;43m.\u001b[39;49m\u001b[43msend\u001b[49m\u001b[43m(\u001b[49m\u001b[43mreply\u001b[49m\u001b[43m,\u001b[49m\u001b[43m \u001b[49m\u001b[43msender\u001b[49m\u001b[43m,\u001b[49m\u001b[43m \u001b[49m\u001b[43msilent\u001b[49m\u001b[38;5;241;43m=\u001b[39;49m\u001b[43msilent\u001b[49m\u001b[43m)\u001b[49m\n",
      "    \u001b[0;31m[... skipping similar frames: ConversableAgent.send at line 655 (41 times), ConversableAgent.receive at line 820 (40 times)]\u001b[0m\n",
      "File \u001b[0;32m~/.pyenv/versions/3.10.6/envs/autogen_test/lib/python3.10/site-packages/autogen/agentchat/conversable_agent.py:820\u001b[0m, in \u001b[0;36mConversableAgent.receive\u001b[0;34m(self, message, sender, request_reply, silent)\u001b[0m\n\u001b[1;32m    818\u001b[0m reply \u001b[38;5;241m=\u001b[39m \u001b[38;5;28mself\u001b[39m\u001b[38;5;241m.\u001b[39mgenerate_reply(messages\u001b[38;5;241m=\u001b[39m\u001b[38;5;28mself\u001b[39m\u001b[38;5;241m.\u001b[39mchat_messages[sender], sender\u001b[38;5;241m=\u001b[39msender)\n\u001b[1;32m    819\u001b[0m \u001b[38;5;28;01mif\u001b[39;00m reply \u001b[38;5;129;01mis\u001b[39;00m \u001b[38;5;129;01mnot\u001b[39;00m \u001b[38;5;28;01mNone\u001b[39;00m:\n\u001b[0;32m--> 820\u001b[0m     \u001b[38;5;28;43mself\u001b[39;49m\u001b[38;5;241;43m.\u001b[39;49m\u001b[43msend\u001b[49m\u001b[43m(\u001b[49m\u001b[43mreply\u001b[49m\u001b[43m,\u001b[49m\u001b[43m \u001b[49m\u001b[43msender\u001b[49m\u001b[43m,\u001b[49m\u001b[43m \u001b[49m\u001b[43msilent\u001b[49m\u001b[38;5;241;43m=\u001b[39;49m\u001b[43msilent\u001b[49m\u001b[43m)\u001b[49m\n",
      "File \u001b[0;32m~/.pyenv/versions/3.10.6/envs/autogen_test/lib/python3.10/site-packages/autogen/agentchat/conversable_agent.py:655\u001b[0m, in \u001b[0;36mConversableAgent.send\u001b[0;34m(self, message, recipient, request_reply, silent)\u001b[0m\n\u001b[1;32m    653\u001b[0m valid \u001b[38;5;241m=\u001b[39m \u001b[38;5;28mself\u001b[39m\u001b[38;5;241m.\u001b[39m_append_oai_message(message, \u001b[38;5;124m\"\u001b[39m\u001b[38;5;124massistant\u001b[39m\u001b[38;5;124m\"\u001b[39m, recipient)\n\u001b[1;32m    654\u001b[0m \u001b[38;5;28;01mif\u001b[39;00m valid:\n\u001b[0;32m--> 655\u001b[0m     \u001b[43mrecipient\u001b[49m\u001b[38;5;241;43m.\u001b[39;49m\u001b[43mreceive\u001b[49m\u001b[43m(\u001b[49m\u001b[43mmessage\u001b[49m\u001b[43m,\u001b[49m\u001b[43m \u001b[49m\u001b[38;5;28;43mself\u001b[39;49m\u001b[43m,\u001b[49m\u001b[43m \u001b[49m\u001b[43mrequest_reply\u001b[49m\u001b[43m,\u001b[49m\u001b[43m \u001b[49m\u001b[43msilent\u001b[49m\u001b[43m)\u001b[49m\n\u001b[1;32m    656\u001b[0m \u001b[38;5;28;01melse\u001b[39;00m:\n\u001b[1;32m    657\u001b[0m     \u001b[38;5;28;01mraise\u001b[39;00m \u001b[38;5;167;01mValueError\u001b[39;00m(\n\u001b[1;32m    658\u001b[0m         \u001b[38;5;124m\"\u001b[39m\u001b[38;5;124mMessage can\u001b[39m\u001b[38;5;124m'\u001b[39m\u001b[38;5;124mt be converted into a valid ChatCompletion message. Either content or function_call must be provided.\u001b[39m\u001b[38;5;124m\"\u001b[39m\n\u001b[1;32m    659\u001b[0m     )\n",
      "File \u001b[0;32m~/.pyenv/versions/3.10.6/envs/autogen_test/lib/python3.10/site-packages/autogen/agentchat/conversable_agent.py:818\u001b[0m, in \u001b[0;36mConversableAgent.receive\u001b[0;34m(self, message, sender, request_reply, silent)\u001b[0m\n\u001b[1;32m    816\u001b[0m \u001b[38;5;28;01mif\u001b[39;00m request_reply \u001b[38;5;129;01mis\u001b[39;00m \u001b[38;5;28;01mFalse\u001b[39;00m \u001b[38;5;129;01mor\u001b[39;00m request_reply \u001b[38;5;129;01mis\u001b[39;00m \u001b[38;5;28;01mNone\u001b[39;00m \u001b[38;5;129;01mand\u001b[39;00m \u001b[38;5;28mself\u001b[39m\u001b[38;5;241m.\u001b[39mreply_at_receive[sender] \u001b[38;5;129;01mis\u001b[39;00m \u001b[38;5;28;01mFalse\u001b[39;00m:\n\u001b[1;32m    817\u001b[0m     \u001b[38;5;28;01mreturn\u001b[39;00m\n\u001b[0;32m--> 818\u001b[0m reply \u001b[38;5;241m=\u001b[39m \u001b[38;5;28;43mself\u001b[39;49m\u001b[38;5;241;43m.\u001b[39;49m\u001b[43mgenerate_reply\u001b[49m\u001b[43m(\u001b[49m\u001b[43mmessages\u001b[49m\u001b[38;5;241;43m=\u001b[39;49m\u001b[38;5;28;43mself\u001b[39;49m\u001b[38;5;241;43m.\u001b[39;49m\u001b[43mchat_messages\u001b[49m\u001b[43m[\u001b[49m\u001b[43msender\u001b[49m\u001b[43m]\u001b[49m\u001b[43m,\u001b[49m\u001b[43m \u001b[49m\u001b[43msender\u001b[49m\u001b[38;5;241;43m=\u001b[39;49m\u001b[43msender\u001b[49m\u001b[43m)\u001b[49m\n\u001b[1;32m    819\u001b[0m \u001b[38;5;28;01mif\u001b[39;00m reply \u001b[38;5;129;01mis\u001b[39;00m \u001b[38;5;129;01mnot\u001b[39;00m \u001b[38;5;28;01mNone\u001b[39;00m:\n\u001b[1;32m    820\u001b[0m     \u001b[38;5;28mself\u001b[39m\u001b[38;5;241m.\u001b[39msend(reply, sender, silent\u001b[38;5;241m=\u001b[39msilent)\n",
      "File \u001b[0;32m~/.pyenv/versions/3.10.6/envs/autogen_test/lib/python3.10/site-packages/autogen/agentchat/conversable_agent.py:1972\u001b[0m, in \u001b[0;36mConversableAgent.generate_reply\u001b[0;34m(self, messages, sender, **kwargs)\u001b[0m\n\u001b[1;32m   1970\u001b[0m     \u001b[38;5;28;01mcontinue\u001b[39;00m\n\u001b[1;32m   1971\u001b[0m \u001b[38;5;28;01mif\u001b[39;00m \u001b[38;5;28mself\u001b[39m\u001b[38;5;241m.\u001b[39m_match_trigger(reply_func_tuple[\u001b[38;5;124m\"\u001b[39m\u001b[38;5;124mtrigger\u001b[39m\u001b[38;5;124m\"\u001b[39m], sender):\n\u001b[0;32m-> 1972\u001b[0m     final, reply \u001b[38;5;241m=\u001b[39m \u001b[43mreply_func\u001b[49m\u001b[43m(\u001b[49m\u001b[38;5;28;43mself\u001b[39;49m\u001b[43m,\u001b[49m\u001b[43m \u001b[49m\u001b[43mmessages\u001b[49m\u001b[38;5;241;43m=\u001b[39;49m\u001b[43mmessages\u001b[49m\u001b[43m,\u001b[49m\u001b[43m \u001b[49m\u001b[43msender\u001b[49m\u001b[38;5;241;43m=\u001b[39;49m\u001b[43msender\u001b[49m\u001b[43m,\u001b[49m\u001b[43m \u001b[49m\u001b[43mconfig\u001b[49m\u001b[38;5;241;43m=\u001b[39;49m\u001b[43mreply_func_tuple\u001b[49m\u001b[43m[\u001b[49m\u001b[38;5;124;43m\"\u001b[39;49m\u001b[38;5;124;43mconfig\u001b[39;49m\u001b[38;5;124;43m\"\u001b[39;49m\u001b[43m]\u001b[49m\u001b[43m)\u001b[49m\n\u001b[1;32m   1973\u001b[0m     \u001b[38;5;28;01mif\u001b[39;00m logging_enabled():\n\u001b[1;32m   1974\u001b[0m         log_event(\n\u001b[1;32m   1975\u001b[0m             \u001b[38;5;28mself\u001b[39m,\n\u001b[1;32m   1976\u001b[0m             \u001b[38;5;124m\"\u001b[39m\u001b[38;5;124mreply_func_executed\u001b[39m\u001b[38;5;124m\"\u001b[39m,\n\u001b[0;32m   (...)\u001b[0m\n\u001b[1;32m   1980\u001b[0m             reply\u001b[38;5;241m=\u001b[39mreply,\n\u001b[1;32m   1981\u001b[0m         )\n",
      "File \u001b[0;32m~/.pyenv/versions/3.10.6/envs/autogen_test/lib/python3.10/site-packages/autogen/agentchat/conversable_agent.py:1628\u001b[0m, in \u001b[0;36mConversableAgent.generate_tool_calls_reply\u001b[0;34m(self, messages, sender, config)\u001b[0m\n\u001b[1;32m   1626\u001b[0m         loop\u001b[38;5;241m.\u001b[39mclose()\n\u001b[1;32m   1627\u001b[0m \u001b[38;5;28;01melse\u001b[39;00m:\n\u001b[0;32m-> 1628\u001b[0m     _, func_return \u001b[38;5;241m=\u001b[39m \u001b[38;5;28;43mself\u001b[39;49m\u001b[38;5;241;43m.\u001b[39;49m\u001b[43mexecute_function\u001b[49m\u001b[43m(\u001b[49m\u001b[43mfunction_call\u001b[49m\u001b[43m)\u001b[49m\n\u001b[1;32m   1629\u001b[0m content \u001b[38;5;241m=\u001b[39m func_return\u001b[38;5;241m.\u001b[39mget(\u001b[38;5;124m\"\u001b[39m\u001b[38;5;124mcontent\u001b[39m\u001b[38;5;124m\"\u001b[39m, \u001b[38;5;124m\"\u001b[39m\u001b[38;5;124m\"\u001b[39m)\n\u001b[1;32m   1630\u001b[0m \u001b[38;5;28;01mif\u001b[39;00m content \u001b[38;5;129;01mis\u001b[39;00m \u001b[38;5;28;01mNone\u001b[39;00m:\n",
      "File \u001b[0;32m~/.pyenv/versions/3.10.6/envs/autogen_test/lib/python3.10/site-packages/autogen/agentchat/conversable_agent.py:2245\u001b[0m, in \u001b[0;36mConversableAgent.execute_function\u001b[0;34m(self, func_call, verbose)\u001b[0m\n\u001b[1;32m   2240\u001b[0m iostream\u001b[38;5;241m.\u001b[39mprint(\n\u001b[1;32m   2241\u001b[0m     colored(\u001b[38;5;124mf\u001b[39m\u001b[38;5;124m\"\u001b[39m\u001b[38;5;130;01m\\n\u001b[39;00m\u001b[38;5;124m>>>>>>>> EXECUTING FUNCTION \u001b[39m\u001b[38;5;132;01m{\u001b[39;00mfunc_name\u001b[38;5;132;01m}\u001b[39;00m\u001b[38;5;124m...\u001b[39m\u001b[38;5;124m\"\u001b[39m, \u001b[38;5;124m\"\u001b[39m\u001b[38;5;124mmagenta\u001b[39m\u001b[38;5;124m\"\u001b[39m),\n\u001b[1;32m   2242\u001b[0m     flush\u001b[38;5;241m=\u001b[39m\u001b[38;5;28;01mTrue\u001b[39;00m,\n\u001b[1;32m   2243\u001b[0m )\n\u001b[1;32m   2244\u001b[0m \u001b[38;5;28;01mtry\u001b[39;00m:\n\u001b[0;32m-> 2245\u001b[0m     content \u001b[38;5;241m=\u001b[39m \u001b[43mfunc\u001b[49m\u001b[43m(\u001b[49m\u001b[38;5;241;43m*\u001b[39;49m\u001b[38;5;241;43m*\u001b[39;49m\u001b[43marguments\u001b[49m\u001b[43m)\u001b[49m\n\u001b[1;32m   2246\u001b[0m     is_exec_success \u001b[38;5;241m=\u001b[39m \u001b[38;5;28;01mTrue\u001b[39;00m\n\u001b[1;32m   2247\u001b[0m \u001b[38;5;28;01mexcept\u001b[39;00m \u001b[38;5;167;01mException\u001b[39;00m \u001b[38;5;28;01mas\u001b[39;00m e:\n",
      "File \u001b[0;32m~/.pyenv/versions/3.10.6/envs/autogen_test/lib/python3.10/site-packages/autogen/function_utils.py:333\u001b[0m, in \u001b[0;36mload_basemodels_if_needed.<locals>._load_parameters_if_needed\u001b[0;34m(*args, **kwargs)\u001b[0m\n\u001b[1;32m    330\u001b[0m     kwargs[k] \u001b[38;5;241m=\u001b[39m f(kwargs[k], param_annotations[k])\n\u001b[1;32m    332\u001b[0m \u001b[38;5;66;03m# call the original function\u001b[39;00m\n\u001b[0;32m--> 333\u001b[0m \u001b[38;5;28;01mreturn\u001b[39;00m \u001b[43mfunc\u001b[49m\u001b[43m(\u001b[49m\u001b[38;5;241;43m*\u001b[39;49m\u001b[43margs\u001b[49m\u001b[43m,\u001b[49m\u001b[43m \u001b[49m\u001b[38;5;241;43m*\u001b[39;49m\u001b[38;5;241;43m*\u001b[39;49m\u001b[43mkwargs\u001b[49m\u001b[43m)\u001b[49m\n",
      "File \u001b[0;32m~/.pyenv/versions/3.10.6/envs/autogen_test/lib/python3.10/site-packages/autogen/agentchat/conversable_agent.py:2528\u001b[0m, in \u001b[0;36mConversableAgent._wrap_function.<locals>._wrapped_func\u001b[0;34m(*args, **kwargs)\u001b[0m\n\u001b[1;32m   2525\u001b[0m \u001b[38;5;129m@load_basemodels_if_needed\u001b[39m\n\u001b[1;32m   2526\u001b[0m \u001b[38;5;129m@functools\u001b[39m\u001b[38;5;241m.\u001b[39mwraps(func)\n\u001b[1;32m   2527\u001b[0m \u001b[38;5;28;01mdef\u001b[39;00m \u001b[38;5;21m_wrapped_func\u001b[39m(\u001b[38;5;241m*\u001b[39margs, \u001b[38;5;241m*\u001b[39m\u001b[38;5;241m*\u001b[39mkwargs):\n\u001b[0;32m-> 2528\u001b[0m     retval \u001b[38;5;241m=\u001b[39m \u001b[43mfunc\u001b[49m\u001b[43m(\u001b[49m\u001b[38;5;241;43m*\u001b[39;49m\u001b[43margs\u001b[49m\u001b[43m,\u001b[49m\u001b[43m \u001b[49m\u001b[38;5;241;43m*\u001b[39;49m\u001b[38;5;241;43m*\u001b[39;49m\u001b[43mkwargs\u001b[49m\u001b[43m)\u001b[49m\n\u001b[1;32m   2529\u001b[0m     \u001b[38;5;28;01mif\u001b[39;00m logging_enabled():\n\u001b[1;32m   2530\u001b[0m         log_function_use(\u001b[38;5;28mself\u001b[39m, func, kwargs, retval)\n",
      "Cell \u001b[0;32mIn[342], line 16\u001b[0m, in \u001b[0;36mfetch_top_search_results\u001b[0;34m(query, num_results)\u001b[0m\n\u001b[1;32m     14\u001b[0m search_results \u001b[38;5;241m=\u001b[39m search(query, num_results\u001b[38;5;241m=\u001b[39mnum_results)\n\u001b[1;32m     15\u001b[0m results_list \u001b[38;5;241m=\u001b[39m []\n\u001b[0;32m---> 16\u001b[0m \u001b[38;5;28;01mfor\u001b[39;00m items \u001b[38;5;129;01min\u001b[39;00m search_results:\n\u001b[1;32m     17\u001b[0m     results_list\u001b[38;5;241m.\u001b[39mappend(items)\n\u001b[1;32m     18\u001b[0m \u001b[38;5;28;01mreturn\u001b[39;00m results_list\n",
      "File \u001b[0;32m~/.pyenv/versions/3.10.6/envs/autogen_test/lib/python3.10/site-packages/googlesearch/__init__.py:57\u001b[0m, in \u001b[0;36msearch\u001b[0;34m(term, num_results, lang, proxy, advanced, sleep_interval, timeout, safe, ssl_verify)\u001b[0m\n\u001b[1;32m     54\u001b[0m start \u001b[38;5;241m=\u001b[39m \u001b[38;5;241m0\u001b[39m\n\u001b[1;32m     55\u001b[0m \u001b[38;5;28;01mwhile\u001b[39;00m start \u001b[38;5;241m<\u001b[39m num_results:\n\u001b[1;32m     56\u001b[0m     \u001b[38;5;66;03m# Send request\u001b[39;00m\n\u001b[0;32m---> 57\u001b[0m     resp \u001b[38;5;241m=\u001b[39m \u001b[43m_req\u001b[49m\u001b[43m(\u001b[49m\u001b[43mescaped_term\u001b[49m\u001b[43m,\u001b[49m\u001b[43m \u001b[49m\u001b[43mnum_results\u001b[49m\u001b[43m \u001b[49m\u001b[38;5;241;43m-\u001b[39;49m\u001b[43m \u001b[49m\u001b[43mstart\u001b[49m\u001b[43m,\u001b[49m\n\u001b[1;32m     58\u001b[0m \u001b[43m                \u001b[49m\u001b[43mlang\u001b[49m\u001b[43m,\u001b[49m\u001b[43m \u001b[49m\u001b[43mstart\u001b[49m\u001b[43m,\u001b[49m\u001b[43m \u001b[49m\u001b[43mproxies\u001b[49m\u001b[43m,\u001b[49m\u001b[43m \u001b[49m\u001b[43mtimeout\u001b[49m\u001b[43m,\u001b[49m\u001b[43m \u001b[49m\u001b[43msafe\u001b[49m\u001b[43m,\u001b[49m\u001b[43m \u001b[49m\u001b[43mssl_verify\u001b[49m\u001b[43m)\u001b[49m\n\u001b[1;32m     60\u001b[0m     \u001b[38;5;66;03m# Parse\u001b[39;00m\n\u001b[1;32m     61\u001b[0m     soup \u001b[38;5;241m=\u001b[39m BeautifulSoup(resp\u001b[38;5;241m.\u001b[39mtext, \u001b[38;5;124m\"\u001b[39m\u001b[38;5;124mhtml.parser\u001b[39m\u001b[38;5;124m\"\u001b[39m)\n",
      "File \u001b[0;32m~/.pyenv/versions/3.10.6/envs/autogen_test/lib/python3.10/site-packages/googlesearch/__init__.py:10\u001b[0m, in \u001b[0;36m_req\u001b[0;34m(term, results, lang, start, proxies, timeout, safe, ssl_verify)\u001b[0m\n\u001b[1;32m      9\u001b[0m \u001b[38;5;28;01mdef\u001b[39;00m \u001b[38;5;21m_req\u001b[39m(term, results, lang, start, proxies, timeout, safe, ssl_verify):\n\u001b[0;32m---> 10\u001b[0m     resp \u001b[38;5;241m=\u001b[39m \u001b[43mget\u001b[49m\u001b[43m(\u001b[49m\n\u001b[1;32m     11\u001b[0m \u001b[43m        \u001b[49m\u001b[43murl\u001b[49m\u001b[38;5;241;43m=\u001b[39;49m\u001b[38;5;124;43m\"\u001b[39;49m\u001b[38;5;124;43mhttps://www.google.com/search\u001b[39;49m\u001b[38;5;124;43m\"\u001b[39;49m\u001b[43m,\u001b[49m\n\u001b[1;32m     12\u001b[0m \u001b[43m        \u001b[49m\u001b[43mheaders\u001b[49m\u001b[38;5;241;43m=\u001b[39;49m\u001b[43m{\u001b[49m\n\u001b[1;32m     13\u001b[0m \u001b[43m            \u001b[49m\u001b[38;5;124;43m\"\u001b[39;49m\u001b[38;5;124;43mUser-Agent\u001b[39;49m\u001b[38;5;124;43m\"\u001b[39;49m\u001b[43m:\u001b[49m\u001b[43m \u001b[49m\u001b[43mget_useragent\u001b[49m\u001b[43m(\u001b[49m\u001b[43m)\u001b[49m\n\u001b[1;32m     14\u001b[0m \u001b[43m        \u001b[49m\u001b[43m}\u001b[49m\u001b[43m,\u001b[49m\n\u001b[1;32m     15\u001b[0m \u001b[43m        \u001b[49m\u001b[43mparams\u001b[49m\u001b[38;5;241;43m=\u001b[39;49m\u001b[43m{\u001b[49m\n\u001b[1;32m     16\u001b[0m \u001b[43m            \u001b[49m\u001b[38;5;124;43m\"\u001b[39;49m\u001b[38;5;124;43mq\u001b[39;49m\u001b[38;5;124;43m\"\u001b[39;49m\u001b[43m:\u001b[49m\u001b[43m \u001b[49m\u001b[43mterm\u001b[49m\u001b[43m,\u001b[49m\n\u001b[1;32m     17\u001b[0m \u001b[43m            \u001b[49m\u001b[38;5;124;43m\"\u001b[39;49m\u001b[38;5;124;43mnum\u001b[39;49m\u001b[38;5;124;43m\"\u001b[39;49m\u001b[43m:\u001b[49m\u001b[43m \u001b[49m\u001b[43mresults\u001b[49m\u001b[43m \u001b[49m\u001b[38;5;241;43m+\u001b[39;49m\u001b[43m \u001b[49m\u001b[38;5;241;43m2\u001b[39;49m\u001b[43m,\u001b[49m\u001b[43m  \u001b[49m\u001b[38;5;66;43;03m# Prevents multiple requests\u001b[39;49;00m\n\u001b[1;32m     18\u001b[0m \u001b[43m            \u001b[49m\u001b[38;5;124;43m\"\u001b[39;49m\u001b[38;5;124;43mhl\u001b[39;49m\u001b[38;5;124;43m\"\u001b[39;49m\u001b[43m:\u001b[49m\u001b[43m \u001b[49m\u001b[43mlang\u001b[49m\u001b[43m,\u001b[49m\n\u001b[1;32m     19\u001b[0m \u001b[43m            \u001b[49m\u001b[38;5;124;43m\"\u001b[39;49m\u001b[38;5;124;43mstart\u001b[39;49m\u001b[38;5;124;43m\"\u001b[39;49m\u001b[43m:\u001b[49m\u001b[43m \u001b[49m\u001b[43mstart\u001b[49m\u001b[43m,\u001b[49m\n\u001b[1;32m     20\u001b[0m \u001b[43m            \u001b[49m\u001b[38;5;124;43m\"\u001b[39;49m\u001b[38;5;124;43msafe\u001b[39;49m\u001b[38;5;124;43m\"\u001b[39;49m\u001b[43m:\u001b[49m\u001b[43m \u001b[49m\u001b[43msafe\u001b[49m\u001b[43m,\u001b[49m\n\u001b[1;32m     21\u001b[0m \u001b[43m        \u001b[49m\u001b[43m}\u001b[49m\u001b[43m,\u001b[49m\n\u001b[1;32m     22\u001b[0m \u001b[43m        \u001b[49m\u001b[43mproxies\u001b[49m\u001b[38;5;241;43m=\u001b[39;49m\u001b[43mproxies\u001b[49m\u001b[43m,\u001b[49m\n\u001b[1;32m     23\u001b[0m \u001b[43m        \u001b[49m\u001b[43mtimeout\u001b[49m\u001b[38;5;241;43m=\u001b[39;49m\u001b[43mtimeout\u001b[49m\u001b[43m,\u001b[49m\n\u001b[1;32m     24\u001b[0m \u001b[43m        \u001b[49m\u001b[43mverify\u001b[49m\u001b[38;5;241;43m=\u001b[39;49m\u001b[43mssl_verify\u001b[49m\u001b[43m,\u001b[49m\n\u001b[1;32m     25\u001b[0m \u001b[43m    \u001b[49m\u001b[43m)\u001b[49m\n\u001b[1;32m     26\u001b[0m     resp\u001b[38;5;241m.\u001b[39mraise_for_status()\n\u001b[1;32m     27\u001b[0m     \u001b[38;5;28;01mreturn\u001b[39;00m resp\n",
      "File \u001b[0;32m~/.pyenv/versions/3.10.6/envs/autogen_test/lib/python3.10/site-packages/requests/api.py:73\u001b[0m, in \u001b[0;36mget\u001b[0;34m(url, params, **kwargs)\u001b[0m\n\u001b[1;32m     62\u001b[0m \u001b[38;5;28;01mdef\u001b[39;00m \u001b[38;5;21mget\u001b[39m(url, params\u001b[38;5;241m=\u001b[39m\u001b[38;5;28;01mNone\u001b[39;00m, \u001b[38;5;241m*\u001b[39m\u001b[38;5;241m*\u001b[39mkwargs):\n\u001b[1;32m     63\u001b[0m \u001b[38;5;250m    \u001b[39m\u001b[38;5;124mr\u001b[39m\u001b[38;5;124;03m\"\"\"Sends a GET request.\u001b[39;00m\n\u001b[1;32m     64\u001b[0m \n\u001b[1;32m     65\u001b[0m \u001b[38;5;124;03m    :param url: URL for the new :class:`Request` object.\u001b[39;00m\n\u001b[0;32m   (...)\u001b[0m\n\u001b[1;32m     70\u001b[0m \u001b[38;5;124;03m    :rtype: requests.Response\u001b[39;00m\n\u001b[1;32m     71\u001b[0m \u001b[38;5;124;03m    \"\"\"\u001b[39;00m\n\u001b[0;32m---> 73\u001b[0m     \u001b[38;5;28;01mreturn\u001b[39;00m \u001b[43mrequest\u001b[49m\u001b[43m(\u001b[49m\u001b[38;5;124;43m\"\u001b[39;49m\u001b[38;5;124;43mget\u001b[39;49m\u001b[38;5;124;43m\"\u001b[39;49m\u001b[43m,\u001b[49m\u001b[43m \u001b[49m\u001b[43murl\u001b[49m\u001b[43m,\u001b[49m\u001b[43m \u001b[49m\u001b[43mparams\u001b[49m\u001b[38;5;241;43m=\u001b[39;49m\u001b[43mparams\u001b[49m\u001b[43m,\u001b[49m\u001b[43m \u001b[49m\u001b[38;5;241;43m*\u001b[39;49m\u001b[38;5;241;43m*\u001b[39;49m\u001b[43mkwargs\u001b[49m\u001b[43m)\u001b[49m\n",
      "File \u001b[0;32m~/.pyenv/versions/3.10.6/envs/autogen_test/lib/python3.10/site-packages/requests/api.py:59\u001b[0m, in \u001b[0;36mrequest\u001b[0;34m(method, url, **kwargs)\u001b[0m\n\u001b[1;32m     55\u001b[0m \u001b[38;5;66;03m# By using the 'with' statement we are sure the session is closed, thus we\u001b[39;00m\n\u001b[1;32m     56\u001b[0m \u001b[38;5;66;03m# avoid leaving sockets open which can trigger a ResourceWarning in some\u001b[39;00m\n\u001b[1;32m     57\u001b[0m \u001b[38;5;66;03m# cases, and look like a memory leak in others.\u001b[39;00m\n\u001b[1;32m     58\u001b[0m \u001b[38;5;28;01mwith\u001b[39;00m sessions\u001b[38;5;241m.\u001b[39mSession() \u001b[38;5;28;01mas\u001b[39;00m session:\n\u001b[0;32m---> 59\u001b[0m     \u001b[38;5;28;01mreturn\u001b[39;00m \u001b[43msession\u001b[49m\u001b[38;5;241;43m.\u001b[39;49m\u001b[43mrequest\u001b[49m\u001b[43m(\u001b[49m\u001b[43mmethod\u001b[49m\u001b[38;5;241;43m=\u001b[39;49m\u001b[43mmethod\u001b[49m\u001b[43m,\u001b[49m\u001b[43m \u001b[49m\u001b[43murl\u001b[49m\u001b[38;5;241;43m=\u001b[39;49m\u001b[43murl\u001b[49m\u001b[43m,\u001b[49m\u001b[43m \u001b[49m\u001b[38;5;241;43m*\u001b[39;49m\u001b[38;5;241;43m*\u001b[39;49m\u001b[43mkwargs\u001b[49m\u001b[43m)\u001b[49m\n",
      "File \u001b[0;32m~/.pyenv/versions/3.10.6/envs/autogen_test/lib/python3.10/site-packages/requests/sessions.py:589\u001b[0m, in \u001b[0;36mSession.request\u001b[0;34m(self, method, url, params, data, headers, cookies, files, auth, timeout, allow_redirects, proxies, hooks, stream, verify, cert, json)\u001b[0m\n\u001b[1;32m    584\u001b[0m send_kwargs \u001b[38;5;241m=\u001b[39m {\n\u001b[1;32m    585\u001b[0m     \u001b[38;5;124m\"\u001b[39m\u001b[38;5;124mtimeout\u001b[39m\u001b[38;5;124m\"\u001b[39m: timeout,\n\u001b[1;32m    586\u001b[0m     \u001b[38;5;124m\"\u001b[39m\u001b[38;5;124mallow_redirects\u001b[39m\u001b[38;5;124m\"\u001b[39m: allow_redirects,\n\u001b[1;32m    587\u001b[0m }\n\u001b[1;32m    588\u001b[0m send_kwargs\u001b[38;5;241m.\u001b[39mupdate(settings)\n\u001b[0;32m--> 589\u001b[0m resp \u001b[38;5;241m=\u001b[39m \u001b[38;5;28;43mself\u001b[39;49m\u001b[38;5;241;43m.\u001b[39;49m\u001b[43msend\u001b[49m\u001b[43m(\u001b[49m\u001b[43mprep\u001b[49m\u001b[43m,\u001b[49m\u001b[43m \u001b[49m\u001b[38;5;241;43m*\u001b[39;49m\u001b[38;5;241;43m*\u001b[39;49m\u001b[43msend_kwargs\u001b[49m\u001b[43m)\u001b[49m\n\u001b[1;32m    591\u001b[0m \u001b[38;5;28;01mreturn\u001b[39;00m resp\n",
      "File \u001b[0;32m~/.pyenv/versions/3.10.6/envs/autogen_test/lib/python3.10/site-packages/requests/sessions.py:703\u001b[0m, in \u001b[0;36mSession.send\u001b[0;34m(self, request, **kwargs)\u001b[0m\n\u001b[1;32m    700\u001b[0m start \u001b[38;5;241m=\u001b[39m preferred_clock()\n\u001b[1;32m    702\u001b[0m \u001b[38;5;66;03m# Send the request\u001b[39;00m\n\u001b[0;32m--> 703\u001b[0m r \u001b[38;5;241m=\u001b[39m \u001b[43madapter\u001b[49m\u001b[38;5;241;43m.\u001b[39;49m\u001b[43msend\u001b[49m\u001b[43m(\u001b[49m\u001b[43mrequest\u001b[49m\u001b[43m,\u001b[49m\u001b[43m \u001b[49m\u001b[38;5;241;43m*\u001b[39;49m\u001b[38;5;241;43m*\u001b[39;49m\u001b[43mkwargs\u001b[49m\u001b[43m)\u001b[49m\n\u001b[1;32m    705\u001b[0m \u001b[38;5;66;03m# Total elapsed time of the request (approximately)\u001b[39;00m\n\u001b[1;32m    706\u001b[0m elapsed \u001b[38;5;241m=\u001b[39m preferred_clock() \u001b[38;5;241m-\u001b[39m start\n",
      "File \u001b[0;32m~/.pyenv/versions/3.10.6/envs/autogen_test/lib/python3.10/site-packages/requests/adapters.py:667\u001b[0m, in \u001b[0;36mHTTPAdapter.send\u001b[0;34m(self, request, stream, timeout, verify, cert, proxies)\u001b[0m\n\u001b[1;32m    664\u001b[0m     timeout \u001b[38;5;241m=\u001b[39m TimeoutSauce(connect\u001b[38;5;241m=\u001b[39mtimeout, read\u001b[38;5;241m=\u001b[39mtimeout)\n\u001b[1;32m    666\u001b[0m \u001b[38;5;28;01mtry\u001b[39;00m:\n\u001b[0;32m--> 667\u001b[0m     resp \u001b[38;5;241m=\u001b[39m \u001b[43mconn\u001b[49m\u001b[38;5;241;43m.\u001b[39;49m\u001b[43murlopen\u001b[49m\u001b[43m(\u001b[49m\n\u001b[1;32m    668\u001b[0m \u001b[43m        \u001b[49m\u001b[43mmethod\u001b[49m\u001b[38;5;241;43m=\u001b[39;49m\u001b[43mrequest\u001b[49m\u001b[38;5;241;43m.\u001b[39;49m\u001b[43mmethod\u001b[49m\u001b[43m,\u001b[49m\n\u001b[1;32m    669\u001b[0m \u001b[43m        \u001b[49m\u001b[43murl\u001b[49m\u001b[38;5;241;43m=\u001b[39;49m\u001b[43murl\u001b[49m\u001b[43m,\u001b[49m\n\u001b[1;32m    670\u001b[0m \u001b[43m        \u001b[49m\u001b[43mbody\u001b[49m\u001b[38;5;241;43m=\u001b[39;49m\u001b[43mrequest\u001b[49m\u001b[38;5;241;43m.\u001b[39;49m\u001b[43mbody\u001b[49m\u001b[43m,\u001b[49m\n\u001b[1;32m    671\u001b[0m \u001b[43m        \u001b[49m\u001b[43mheaders\u001b[49m\u001b[38;5;241;43m=\u001b[39;49m\u001b[43mrequest\u001b[49m\u001b[38;5;241;43m.\u001b[39;49m\u001b[43mheaders\u001b[49m\u001b[43m,\u001b[49m\n\u001b[1;32m    672\u001b[0m \u001b[43m        \u001b[49m\u001b[43mredirect\u001b[49m\u001b[38;5;241;43m=\u001b[39;49m\u001b[38;5;28;43;01mFalse\u001b[39;49;00m\u001b[43m,\u001b[49m\n\u001b[1;32m    673\u001b[0m \u001b[43m        \u001b[49m\u001b[43massert_same_host\u001b[49m\u001b[38;5;241;43m=\u001b[39;49m\u001b[38;5;28;43;01mFalse\u001b[39;49;00m\u001b[43m,\u001b[49m\n\u001b[1;32m    674\u001b[0m \u001b[43m        \u001b[49m\u001b[43mpreload_content\u001b[49m\u001b[38;5;241;43m=\u001b[39;49m\u001b[38;5;28;43;01mFalse\u001b[39;49;00m\u001b[43m,\u001b[49m\n\u001b[1;32m    675\u001b[0m \u001b[43m        \u001b[49m\u001b[43mdecode_content\u001b[49m\u001b[38;5;241;43m=\u001b[39;49m\u001b[38;5;28;43;01mFalse\u001b[39;49;00m\u001b[43m,\u001b[49m\n\u001b[1;32m    676\u001b[0m \u001b[43m        \u001b[49m\u001b[43mretries\u001b[49m\u001b[38;5;241;43m=\u001b[39;49m\u001b[38;5;28;43mself\u001b[39;49m\u001b[38;5;241;43m.\u001b[39;49m\u001b[43mmax_retries\u001b[49m\u001b[43m,\u001b[49m\n\u001b[1;32m    677\u001b[0m \u001b[43m        \u001b[49m\u001b[43mtimeout\u001b[49m\u001b[38;5;241;43m=\u001b[39;49m\u001b[43mtimeout\u001b[49m\u001b[43m,\u001b[49m\n\u001b[1;32m    678\u001b[0m \u001b[43m        \u001b[49m\u001b[43mchunked\u001b[49m\u001b[38;5;241;43m=\u001b[39;49m\u001b[43mchunked\u001b[49m\u001b[43m,\u001b[49m\n\u001b[1;32m    679\u001b[0m \u001b[43m    \u001b[49m\u001b[43m)\u001b[49m\n\u001b[1;32m    681\u001b[0m \u001b[38;5;28;01mexcept\u001b[39;00m (ProtocolError, \u001b[38;5;167;01mOSError\u001b[39;00m) \u001b[38;5;28;01mas\u001b[39;00m err:\n\u001b[1;32m    682\u001b[0m     \u001b[38;5;28;01mraise\u001b[39;00m \u001b[38;5;167;01mConnectionError\u001b[39;00m(err, request\u001b[38;5;241m=\u001b[39mrequest)\n",
      "File \u001b[0;32m~/.pyenv/versions/3.10.6/envs/autogen_test/lib/python3.10/site-packages/urllib3/connectionpool.py:789\u001b[0m, in \u001b[0;36mHTTPConnectionPool.urlopen\u001b[0;34m(self, method, url, body, headers, retries, redirect, assert_same_host, timeout, pool_timeout, release_conn, chunked, body_pos, preload_content, decode_content, **response_kw)\u001b[0m\n\u001b[1;32m    786\u001b[0m response_conn \u001b[38;5;241m=\u001b[39m conn \u001b[38;5;28;01mif\u001b[39;00m \u001b[38;5;129;01mnot\u001b[39;00m release_conn \u001b[38;5;28;01melse\u001b[39;00m \u001b[38;5;28;01mNone\u001b[39;00m\n\u001b[1;32m    788\u001b[0m \u001b[38;5;66;03m# Make the request on the HTTPConnection object\u001b[39;00m\n\u001b[0;32m--> 789\u001b[0m response \u001b[38;5;241m=\u001b[39m \u001b[38;5;28;43mself\u001b[39;49m\u001b[38;5;241;43m.\u001b[39;49m\u001b[43m_make_request\u001b[49m\u001b[43m(\u001b[49m\n\u001b[1;32m    790\u001b[0m \u001b[43m    \u001b[49m\u001b[43mconn\u001b[49m\u001b[43m,\u001b[49m\n\u001b[1;32m    791\u001b[0m \u001b[43m    \u001b[49m\u001b[43mmethod\u001b[49m\u001b[43m,\u001b[49m\n\u001b[1;32m    792\u001b[0m \u001b[43m    \u001b[49m\u001b[43murl\u001b[49m\u001b[43m,\u001b[49m\n\u001b[1;32m    793\u001b[0m \u001b[43m    \u001b[49m\u001b[43mtimeout\u001b[49m\u001b[38;5;241;43m=\u001b[39;49m\u001b[43mtimeout_obj\u001b[49m\u001b[43m,\u001b[49m\n\u001b[1;32m    794\u001b[0m \u001b[43m    \u001b[49m\u001b[43mbody\u001b[49m\u001b[38;5;241;43m=\u001b[39;49m\u001b[43mbody\u001b[49m\u001b[43m,\u001b[49m\n\u001b[1;32m    795\u001b[0m \u001b[43m    \u001b[49m\u001b[43mheaders\u001b[49m\u001b[38;5;241;43m=\u001b[39;49m\u001b[43mheaders\u001b[49m\u001b[43m,\u001b[49m\n\u001b[1;32m    796\u001b[0m \u001b[43m    \u001b[49m\u001b[43mchunked\u001b[49m\u001b[38;5;241;43m=\u001b[39;49m\u001b[43mchunked\u001b[49m\u001b[43m,\u001b[49m\n\u001b[1;32m    797\u001b[0m \u001b[43m    \u001b[49m\u001b[43mretries\u001b[49m\u001b[38;5;241;43m=\u001b[39;49m\u001b[43mretries\u001b[49m\u001b[43m,\u001b[49m\n\u001b[1;32m    798\u001b[0m \u001b[43m    \u001b[49m\u001b[43mresponse_conn\u001b[49m\u001b[38;5;241;43m=\u001b[39;49m\u001b[43mresponse_conn\u001b[49m\u001b[43m,\u001b[49m\n\u001b[1;32m    799\u001b[0m \u001b[43m    \u001b[49m\u001b[43mpreload_content\u001b[49m\u001b[38;5;241;43m=\u001b[39;49m\u001b[43mpreload_content\u001b[49m\u001b[43m,\u001b[49m\n\u001b[1;32m    800\u001b[0m \u001b[43m    \u001b[49m\u001b[43mdecode_content\u001b[49m\u001b[38;5;241;43m=\u001b[39;49m\u001b[43mdecode_content\u001b[49m\u001b[43m,\u001b[49m\n\u001b[1;32m    801\u001b[0m \u001b[43m    \u001b[49m\u001b[38;5;241;43m*\u001b[39;49m\u001b[38;5;241;43m*\u001b[39;49m\u001b[43mresponse_kw\u001b[49m\u001b[43m,\u001b[49m\n\u001b[1;32m    802\u001b[0m \u001b[43m\u001b[49m\u001b[43m)\u001b[49m\n\u001b[1;32m    804\u001b[0m \u001b[38;5;66;03m# Everything went great!\u001b[39;00m\n\u001b[1;32m    805\u001b[0m clean_exit \u001b[38;5;241m=\u001b[39m \u001b[38;5;28;01mTrue\u001b[39;00m\n",
      "File \u001b[0;32m~/.pyenv/versions/3.10.6/envs/autogen_test/lib/python3.10/site-packages/urllib3/connectionpool.py:536\u001b[0m, in \u001b[0;36mHTTPConnectionPool._make_request\u001b[0;34m(self, conn, method, url, body, headers, retries, timeout, chunked, response_conn, preload_content, decode_content, enforce_content_length)\u001b[0m\n\u001b[1;32m    534\u001b[0m \u001b[38;5;66;03m# Receive the response from the server\u001b[39;00m\n\u001b[1;32m    535\u001b[0m \u001b[38;5;28;01mtry\u001b[39;00m:\n\u001b[0;32m--> 536\u001b[0m     response \u001b[38;5;241m=\u001b[39m \u001b[43mconn\u001b[49m\u001b[38;5;241;43m.\u001b[39;49m\u001b[43mgetresponse\u001b[49m\u001b[43m(\u001b[49m\u001b[43m)\u001b[49m\n\u001b[1;32m    537\u001b[0m \u001b[38;5;28;01mexcept\u001b[39;00m (BaseSSLError, \u001b[38;5;167;01mOSError\u001b[39;00m) \u001b[38;5;28;01mas\u001b[39;00m e:\n\u001b[1;32m    538\u001b[0m     \u001b[38;5;28mself\u001b[39m\u001b[38;5;241m.\u001b[39m_raise_timeout(err\u001b[38;5;241m=\u001b[39me, url\u001b[38;5;241m=\u001b[39murl, timeout_value\u001b[38;5;241m=\u001b[39mread_timeout)\n",
      "File \u001b[0;32m~/.pyenv/versions/3.10.6/envs/autogen_test/lib/python3.10/site-packages/urllib3/connection.py:464\u001b[0m, in \u001b[0;36mHTTPConnection.getresponse\u001b[0;34m(self)\u001b[0m\n\u001b[1;32m    461\u001b[0m \u001b[38;5;28;01mfrom\u001b[39;00m \u001b[38;5;21;01m.\u001b[39;00m\u001b[38;5;21;01mresponse\u001b[39;00m \u001b[38;5;28;01mimport\u001b[39;00m HTTPResponse\n\u001b[1;32m    463\u001b[0m \u001b[38;5;66;03m# Get the response from http.client.HTTPConnection\u001b[39;00m\n\u001b[0;32m--> 464\u001b[0m httplib_response \u001b[38;5;241m=\u001b[39m \u001b[38;5;28;43msuper\u001b[39;49m\u001b[43m(\u001b[49m\u001b[43m)\u001b[49m\u001b[38;5;241;43m.\u001b[39;49m\u001b[43mgetresponse\u001b[49m\u001b[43m(\u001b[49m\u001b[43m)\u001b[49m\n\u001b[1;32m    466\u001b[0m \u001b[38;5;28;01mtry\u001b[39;00m:\n\u001b[1;32m    467\u001b[0m     assert_header_parsing(httplib_response\u001b[38;5;241m.\u001b[39mmsg)\n",
      "File \u001b[0;32m~/.pyenv/versions/3.10.6/lib/python3.10/http/client.py:1374\u001b[0m, in \u001b[0;36mHTTPConnection.getresponse\u001b[0;34m(self)\u001b[0m\n\u001b[1;32m   1372\u001b[0m \u001b[38;5;28;01mtry\u001b[39;00m:\n\u001b[1;32m   1373\u001b[0m     \u001b[38;5;28;01mtry\u001b[39;00m:\n\u001b[0;32m-> 1374\u001b[0m         \u001b[43mresponse\u001b[49m\u001b[38;5;241;43m.\u001b[39;49m\u001b[43mbegin\u001b[49m\u001b[43m(\u001b[49m\u001b[43m)\u001b[49m\n\u001b[1;32m   1375\u001b[0m     \u001b[38;5;28;01mexcept\u001b[39;00m \u001b[38;5;167;01mConnectionError\u001b[39;00m:\n\u001b[1;32m   1376\u001b[0m         \u001b[38;5;28mself\u001b[39m\u001b[38;5;241m.\u001b[39mclose()\n",
      "File \u001b[0;32m~/.pyenv/versions/3.10.6/lib/python3.10/http/client.py:318\u001b[0m, in \u001b[0;36mHTTPResponse.begin\u001b[0;34m(self)\u001b[0m\n\u001b[1;32m    316\u001b[0m \u001b[38;5;66;03m# read until we get a non-100 response\u001b[39;00m\n\u001b[1;32m    317\u001b[0m \u001b[38;5;28;01mwhile\u001b[39;00m \u001b[38;5;28;01mTrue\u001b[39;00m:\n\u001b[0;32m--> 318\u001b[0m     version, status, reason \u001b[38;5;241m=\u001b[39m \u001b[38;5;28;43mself\u001b[39;49m\u001b[38;5;241;43m.\u001b[39;49m\u001b[43m_read_status\u001b[49m\u001b[43m(\u001b[49m\u001b[43m)\u001b[49m\n\u001b[1;32m    319\u001b[0m     \u001b[38;5;28;01mif\u001b[39;00m status \u001b[38;5;241m!=\u001b[39m CONTINUE:\n\u001b[1;32m    320\u001b[0m         \u001b[38;5;28;01mbreak\u001b[39;00m\n",
      "File \u001b[0;32m~/.pyenv/versions/3.10.6/lib/python3.10/http/client.py:279\u001b[0m, in \u001b[0;36mHTTPResponse._read_status\u001b[0;34m(self)\u001b[0m\n\u001b[1;32m    278\u001b[0m \u001b[38;5;28;01mdef\u001b[39;00m \u001b[38;5;21m_read_status\u001b[39m(\u001b[38;5;28mself\u001b[39m):\n\u001b[0;32m--> 279\u001b[0m     line \u001b[38;5;241m=\u001b[39m \u001b[38;5;28mstr\u001b[39m(\u001b[38;5;28;43mself\u001b[39;49m\u001b[38;5;241;43m.\u001b[39;49m\u001b[43mfp\u001b[49m\u001b[38;5;241;43m.\u001b[39;49m\u001b[43mreadline\u001b[49m\u001b[43m(\u001b[49m\u001b[43m_MAXLINE\u001b[49m\u001b[43m \u001b[49m\u001b[38;5;241;43m+\u001b[39;49m\u001b[43m \u001b[49m\u001b[38;5;241;43m1\u001b[39;49m\u001b[43m)\u001b[49m, \u001b[38;5;124m\"\u001b[39m\u001b[38;5;124miso-8859-1\u001b[39m\u001b[38;5;124m\"\u001b[39m)\n\u001b[1;32m    280\u001b[0m     \u001b[38;5;28;01mif\u001b[39;00m \u001b[38;5;28mlen\u001b[39m(line) \u001b[38;5;241m>\u001b[39m _MAXLINE:\n\u001b[1;32m    281\u001b[0m         \u001b[38;5;28;01mraise\u001b[39;00m LineTooLong(\u001b[38;5;124m\"\u001b[39m\u001b[38;5;124mstatus line\u001b[39m\u001b[38;5;124m\"\u001b[39m)\n",
      "File \u001b[0;32m~/.pyenv/versions/3.10.6/lib/python3.10/socket.py:705\u001b[0m, in \u001b[0;36mSocketIO.readinto\u001b[0;34m(self, b)\u001b[0m\n\u001b[1;32m    703\u001b[0m \u001b[38;5;28;01mwhile\u001b[39;00m \u001b[38;5;28;01mTrue\u001b[39;00m:\n\u001b[1;32m    704\u001b[0m     \u001b[38;5;28;01mtry\u001b[39;00m:\n\u001b[0;32m--> 705\u001b[0m         \u001b[38;5;28;01mreturn\u001b[39;00m \u001b[38;5;28;43mself\u001b[39;49m\u001b[38;5;241;43m.\u001b[39;49m\u001b[43m_sock\u001b[49m\u001b[38;5;241;43m.\u001b[39;49m\u001b[43mrecv_into\u001b[49m\u001b[43m(\u001b[49m\u001b[43mb\u001b[49m\u001b[43m)\u001b[49m\n\u001b[1;32m    706\u001b[0m     \u001b[38;5;28;01mexcept\u001b[39;00m timeout:\n\u001b[1;32m    707\u001b[0m         \u001b[38;5;28mself\u001b[39m\u001b[38;5;241m.\u001b[39m_timeout_occurred \u001b[38;5;241m=\u001b[39m \u001b[38;5;28;01mTrue\u001b[39;00m\n",
      "File \u001b[0;32m~/.pyenv/versions/3.10.6/lib/python3.10/ssl.py:1274\u001b[0m, in \u001b[0;36mSSLSocket.recv_into\u001b[0;34m(self, buffer, nbytes, flags)\u001b[0m\n\u001b[1;32m   1270\u001b[0m     \u001b[38;5;28;01mif\u001b[39;00m flags \u001b[38;5;241m!=\u001b[39m \u001b[38;5;241m0\u001b[39m:\n\u001b[1;32m   1271\u001b[0m         \u001b[38;5;28;01mraise\u001b[39;00m \u001b[38;5;167;01mValueError\u001b[39;00m(\n\u001b[1;32m   1272\u001b[0m           \u001b[38;5;124m\"\u001b[39m\u001b[38;5;124mnon-zero flags not allowed in calls to recv_into() on \u001b[39m\u001b[38;5;132;01m%s\u001b[39;00m\u001b[38;5;124m\"\u001b[39m \u001b[38;5;241m%\u001b[39m\n\u001b[1;32m   1273\u001b[0m           \u001b[38;5;28mself\u001b[39m\u001b[38;5;241m.\u001b[39m\u001b[38;5;18m__class__\u001b[39m)\n\u001b[0;32m-> 1274\u001b[0m     \u001b[38;5;28;01mreturn\u001b[39;00m \u001b[38;5;28;43mself\u001b[39;49m\u001b[38;5;241;43m.\u001b[39;49m\u001b[43mread\u001b[49m\u001b[43m(\u001b[49m\u001b[43mnbytes\u001b[49m\u001b[43m,\u001b[49m\u001b[43m \u001b[49m\u001b[43mbuffer\u001b[49m\u001b[43m)\u001b[49m\n\u001b[1;32m   1275\u001b[0m \u001b[38;5;28;01melse\u001b[39;00m:\n\u001b[1;32m   1276\u001b[0m     \u001b[38;5;28;01mreturn\u001b[39;00m \u001b[38;5;28msuper\u001b[39m()\u001b[38;5;241m.\u001b[39mrecv_into(buffer, nbytes, flags)\n",
      "File \u001b[0;32m~/.pyenv/versions/3.10.6/lib/python3.10/ssl.py:1130\u001b[0m, in \u001b[0;36mSSLSocket.read\u001b[0;34m(self, len, buffer)\u001b[0m\n\u001b[1;32m   1128\u001b[0m \u001b[38;5;28;01mtry\u001b[39;00m:\n\u001b[1;32m   1129\u001b[0m     \u001b[38;5;28;01mif\u001b[39;00m buffer \u001b[38;5;129;01mis\u001b[39;00m \u001b[38;5;129;01mnot\u001b[39;00m \u001b[38;5;28;01mNone\u001b[39;00m:\n\u001b[0;32m-> 1130\u001b[0m         \u001b[38;5;28;01mreturn\u001b[39;00m \u001b[38;5;28;43mself\u001b[39;49m\u001b[38;5;241;43m.\u001b[39;49m\u001b[43m_sslobj\u001b[49m\u001b[38;5;241;43m.\u001b[39;49m\u001b[43mread\u001b[49m\u001b[43m(\u001b[49m\u001b[38;5;28;43mlen\u001b[39;49m\u001b[43m,\u001b[49m\u001b[43m \u001b[49m\u001b[43mbuffer\u001b[49m\u001b[43m)\u001b[49m\n\u001b[1;32m   1131\u001b[0m     \u001b[38;5;28;01melse\u001b[39;00m:\n\u001b[1;32m   1132\u001b[0m         \u001b[38;5;28;01mreturn\u001b[39;00m \u001b[38;5;28mself\u001b[39m\u001b[38;5;241m.\u001b[39m_sslobj\u001b[38;5;241m.\u001b[39mread(\u001b[38;5;28mlen\u001b[39m)\n",
      "\u001b[0;31mKeyboardInterrupt\u001b[0m: "
     ]
    }
   ],
   "source": [
    "chat_result = user_proxy.initiate_chat(assistant, message=\"\"\"Do NOT parallelize the workflow, follow this from top to bottom and if it \n",
    "fails check the previous output to go to another company or another link:\n",
    "\n",
    "Please search Google for 'best fully remote companys (or similar)' and take the \n",
    "first link you receive to extract the html text from that url, try one link after but wait 15 seconds in between at least for it to process \n",
    "until one works. \n",
    "\n",
    "Once you have the cleaned text: \n",
    "This text is sequential and after some point a top list of companies to\n",
    "work remotely for is given. Please list all of these companies that are great for working remote. \n",
    "Don't use any other words than the company name, dont use a bullet list, \n",
    "dont use numbers, just comma separate all companies you find. \n",
    "\n",
    "Then use this first company name to perform another Google Search with \"{company_name} career site\" and decide which of the resulted links is\n",
    "most likely to be the company's career site. If none seem to make senes go with the next company from the previous list.\n",
    "\n",
    "Then use that URL to perform the scrape_career_website tool in order to extract all text from the website. \n",
    "\n",
    "From the given scraped text find for me all open positions that are at all related to data science, data engineering, \n",
    "data analysis or similar. EXTREMELY IMPORTANT: Any given job HAS to be within |, this is the seperator (but there can be weird text separated as well, \n",
    "but a job itself is never separated by |). E.g.: | this is an example text | department | roles | data | product specialist | engineering manager | abc: \n",
    "in here the roles are \"product specialist\" and \"engineering manager\" the rest are not roles.\n",
    "\n",
    "Only do this until it works once\n",
    "and then TERMINATE.\"\"\")"
   ]
  },
  {
   "cell_type": "code",
   "execution_count": null,
   "id": "af03bb19-bf1a-4e02-b8df-8a56195032e9",
   "metadata": {},
   "outputs": [],
   "source": []
  }
 ],
 "metadata": {
  "kernelspec": {
   "display_name": "Python 3 (ipykernel)",
   "language": "python",
   "name": "python3"
  },
  "language_info": {
   "codemirror_mode": {
    "name": "ipython",
    "version": 3
   },
   "file_extension": ".py",
   "mimetype": "text/x-python",
   "name": "python",
   "nbconvert_exporter": "python",
   "pygments_lexer": "ipython3",
   "version": "3.10.6"
  }
 },
 "nbformat": 4,
 "nbformat_minor": 5
}
